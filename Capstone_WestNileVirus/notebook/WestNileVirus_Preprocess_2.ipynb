{
 "cells": [
  {
   "cell_type": "markdown",
   "id": "c4d56bdd",
   "metadata": {},
   "source": [
    "# Capstone: West Nile Virus\n",
    "\n",
    "![chicago](images/chiskyline.png)\n",
    "\n",
    "reference: [Kaggle Challenge 2015](https://www.kaggle.com/c/predict-west-nile-virus)\n",
    "\n",
    "- West Nile virus is most commonly spread to humans through infected mosquitos. Around 20% of people who become infected with the virus develop symptoms ranging from a persistent fever, to serious neurological illnesses that can result in death.\n",
    "- By 2004 the City of Chicago and the Chicago Department of Public Health (CDPH) had established a comprehensive surveillance and control program that is still in effect today.\n",
    "- Every week from late spring through the fall, mosquitos in traps across the city are tested for the virus. The results of these tests influence when and where the city will spray airborne pesticides to control adult mosquito populations.\n",
    "- Given weather, location, testing, and spraying data, this competition asks you to predict when and where different species of mosquitos will test positive for West Nile virus."
   ]
  },
  {
   "cell_type": "markdown",
   "id": "8074428f",
   "metadata": {},
   "source": [
    "# Import packages and define functions"
   ]
  },
  {
   "cell_type": "code",
   "execution_count": 1,
   "id": "fca70492",
   "metadata": {},
   "outputs": [],
   "source": [
    "import pandas as pd\n",
    "import numpy as np\n",
    "import os\n",
    "import matplotlib.pyplot as plt\n",
    "import seaborn as sns\n",
    "import datetime \n",
    "#import plotly\n",
    "\n",
    "from sklearn.preprocessing import StandardScaler\n",
    "from sklearn.model_selection import train_test_split\n",
    "from sklearn.linear_model import LogisticRegression\n",
    "from sklearn.metrics import accuracy_score, f1_score\n",
    "from sklearn.metrics import classification_report\n",
    "from sklearn.metrics import confusion_matrix\n",
    "from sklearn.metrics import ConfusionMatrixDisplay\n",
    "from sklearn.ensemble import RandomForestClassifier\n",
    "\n",
    "from imblearn.over_sampling import RandomOverSampler\n",
    "from collections import Counter\n",
    "\n",
    "%matplotlib inline \n",
    "\n",
    "sns.set_style('ticks', rc={'xtick.direction':'in', 'ytick.direction':'in', \\\n",
    "                           'xtick.top':True, 'ytick.right':True})"
   ]
  },
  {
   "cell_type": "markdown",
   "id": "b1e543c3",
   "metadata": {},
   "source": [
    "# Load Datasets & feature selection"
   ]
  },
  {
   "cell_type": "code",
   "execution_count": 2,
   "id": "7ff05e78",
   "metadata": {},
   "outputs": [],
   "source": [
    "datadir = '../datasets'\n",
    "datadir_pr = '../datasets/processed'  # directory where the cleaned datasets are stored"
   ]
  },
  {
   "cell_type": "markdown",
   "id": "9b7da612",
   "metadata": {},
   "source": [
    "## Datasets consist of Main, Spray, Weather, Map data:\n",
    "- Main Data\n",
    "    - test results are organized in such a way that when the number of mosquitos exceed 50, they are split into another record (another row in the dataset), such that the number of mosquitos are capped at 50. \n",
    "- Spray Data\n",
    "    - spraying to kill mosquitos.\n",
    "    - the GIS data for their spray efforts in 2011 and 2013.\n",
    "    - Spraying can reduce the number of mosquitos in the area, and therefore might eliminate the appearance of West Nile virus. \n",
    "- Weather Data\n",
    "    - It is believed that hot and dry conditions are more favorable for West Nile virus than cold and wet.\n",
    "    - dataset from NOAA of the weather conditions of 2007 to 2014, during the months of the tests. \n",
    "- Map Data\n",
    "    - primarily provided for use in visualizations"
   ]
  },
  {
   "cell_type": "code",
   "execution_count": 99,
   "id": "04188232",
   "metadata": {},
   "outputs": [],
   "source": [
    "''' load the datasets '''\n",
    "\n",
    "# load the main datasets that contain virus test results\n",
    "train_merged  = pd.read_csv(os.path.join(datadir_pr, 'train_merged.csv'), parse_dates=['Date'], index_col='Date')\n",
    "train_targets = pd.read_csv(os.path.join(datadir_pr, 'train_targets.csv'), parse_dates=['Date'], index_col='Date')\n",
    "\n",
    "test_merged   = pd.read_csv(os.path.join(datadir_pr, 'test_merged.csv'), parse_dates=['Date'], index_col='Date')"
   ]
  },
  {
   "cell_type": "code",
   "execution_count": 100,
   "id": "38cc0bb6",
   "metadata": {},
   "outputs": [
    {
     "data": {
      "text/html": [
       "<div>\n",
       "<style scoped>\n",
       "    .dataframe tbody tr th:only-of-type {\n",
       "        vertical-align: middle;\n",
       "    }\n",
       "\n",
       "    .dataframe tbody tr th {\n",
       "        vertical-align: top;\n",
       "    }\n",
       "\n",
       "    .dataframe thead th {\n",
       "        text-align: right;\n",
       "    }\n",
       "</style>\n",
       "<table border=\"1\" class=\"dataframe\">\n",
       "  <thead>\n",
       "    <tr style=\"text-align: right;\">\n",
       "      <th></th>\n",
       "      <th>Block</th>\n",
       "      <th>AddressAccuracy</th>\n",
       "      <th>Species_CULEX PIPIENS</th>\n",
       "      <th>Species_CULEX RESTUANS</th>\n",
       "      <th>Tmax</th>\n",
       "      <th>Tmin</th>\n",
       "      <th>Tavg</th>\n",
       "      <th>Depart</th>\n",
       "      <th>DewPoint</th>\n",
       "      <th>WetBulb</th>\n",
       "      <th>...</th>\n",
       "      <th>Sunrise</th>\n",
       "      <th>Sunset</th>\n",
       "      <th>PrecipTotal</th>\n",
       "      <th>StnPressure</th>\n",
       "      <th>SeaLevel</th>\n",
       "      <th>ResultSpeed</th>\n",
       "      <th>ResultDir</th>\n",
       "      <th>AvgSpeed</th>\n",
       "      <th>Year</th>\n",
       "      <th>Month</th>\n",
       "    </tr>\n",
       "    <tr>\n",
       "      <th>Date</th>\n",
       "      <th></th>\n",
       "      <th></th>\n",
       "      <th></th>\n",
       "      <th></th>\n",
       "      <th></th>\n",
       "      <th></th>\n",
       "      <th></th>\n",
       "      <th></th>\n",
       "      <th></th>\n",
       "      <th></th>\n",
       "      <th></th>\n",
       "      <th></th>\n",
       "      <th></th>\n",
       "      <th></th>\n",
       "      <th></th>\n",
       "      <th></th>\n",
       "      <th></th>\n",
       "      <th></th>\n",
       "      <th></th>\n",
       "      <th></th>\n",
       "      <th></th>\n",
       "    </tr>\n",
       "  </thead>\n",
       "  <tbody>\n",
       "    <tr>\n",
       "      <th>2007-05-29</th>\n",
       "      <td>41</td>\n",
       "      <td>9</td>\n",
       "      <td>0</td>\n",
       "      <td>0</td>\n",
       "      <td>88</td>\n",
       "      <td>60</td>\n",
       "      <td>74.0</td>\n",
       "      <td>10.0</td>\n",
       "      <td>58</td>\n",
       "      <td>65.0</td>\n",
       "      <td>...</td>\n",
       "      <td>421.0</td>\n",
       "      <td>1917.0</td>\n",
       "      <td>0.0</td>\n",
       "      <td>29.39</td>\n",
       "      <td>30.11</td>\n",
       "      <td>5.8</td>\n",
       "      <td>18</td>\n",
       "      <td>6.5</td>\n",
       "      <td>2007</td>\n",
       "      <td>5</td>\n",
       "    </tr>\n",
       "    <tr>\n",
       "      <th>2007-05-29</th>\n",
       "      <td>41</td>\n",
       "      <td>9</td>\n",
       "      <td>0</td>\n",
       "      <td>1</td>\n",
       "      <td>88</td>\n",
       "      <td>60</td>\n",
       "      <td>74.0</td>\n",
       "      <td>10.0</td>\n",
       "      <td>58</td>\n",
       "      <td>65.0</td>\n",
       "      <td>...</td>\n",
       "      <td>421.0</td>\n",
       "      <td>1917.0</td>\n",
       "      <td>0.0</td>\n",
       "      <td>29.39</td>\n",
       "      <td>30.11</td>\n",
       "      <td>5.8</td>\n",
       "      <td>18</td>\n",
       "      <td>6.5</td>\n",
       "      <td>2007</td>\n",
       "      <td>5</td>\n",
       "    </tr>\n",
       "    <tr>\n",
       "      <th>2007-05-29</th>\n",
       "      <td>62</td>\n",
       "      <td>9</td>\n",
       "      <td>0</td>\n",
       "      <td>1</td>\n",
       "      <td>88</td>\n",
       "      <td>60</td>\n",
       "      <td>74.0</td>\n",
       "      <td>10.0</td>\n",
       "      <td>58</td>\n",
       "      <td>65.0</td>\n",
       "      <td>...</td>\n",
       "      <td>421.0</td>\n",
       "      <td>1917.0</td>\n",
       "      <td>0.0</td>\n",
       "      <td>29.39</td>\n",
       "      <td>30.11</td>\n",
       "      <td>5.8</td>\n",
       "      <td>18</td>\n",
       "      <td>6.5</td>\n",
       "      <td>2007</td>\n",
       "      <td>5</td>\n",
       "    </tr>\n",
       "  </tbody>\n",
       "</table>\n",
       "<p>3 rows × 22 columns</p>\n",
       "</div>"
      ],
      "text/plain": [
       "            Block  AddressAccuracy  Species_CULEX PIPIENS  \\\n",
       "Date                                                        \n",
       "2007-05-29     41                9                      0   \n",
       "2007-05-29     41                9                      0   \n",
       "2007-05-29     62                9                      0   \n",
       "\n",
       "            Species_CULEX RESTUANS  Tmax  Tmin  Tavg  Depart  DewPoint  \\\n",
       "Date                                                                     \n",
       "2007-05-29                       0    88    60  74.0    10.0        58   \n",
       "2007-05-29                       1    88    60  74.0    10.0        58   \n",
       "2007-05-29                       1    88    60  74.0    10.0        58   \n",
       "\n",
       "            WetBulb  ...  Sunrise  Sunset  PrecipTotal  StnPressure  SeaLevel  \\\n",
       "Date                 ...                                                        \n",
       "2007-05-29     65.0  ...    421.0  1917.0          0.0        29.39     30.11   \n",
       "2007-05-29     65.0  ...    421.0  1917.0          0.0        29.39     30.11   \n",
       "2007-05-29     65.0  ...    421.0  1917.0          0.0        29.39     30.11   \n",
       "\n",
       "            ResultSpeed  ResultDir  AvgSpeed  Year  Month  \n",
       "Date                                                       \n",
       "2007-05-29          5.8         18       6.5  2007      5  \n",
       "2007-05-29          5.8         18       6.5  2007      5  \n",
       "2007-05-29          5.8         18       6.5  2007      5  \n",
       "\n",
       "[3 rows x 22 columns]"
      ]
     },
     "execution_count": 100,
     "metadata": {},
     "output_type": "execute_result"
    }
   ],
   "source": [
    "train_merged.head(3)"
   ]
  },
  {
   "cell_type": "code",
   "execution_count": 101,
   "id": "b7f88c43",
   "metadata": {},
   "outputs": [
    {
     "name": "stdout",
     "output_type": "stream",
     "text": [
      "<class 'pandas.core.frame.DataFrame'>\n",
      "DatetimeIndex: 10506 entries, 2007-05-29 to 2013-09-26\n",
      "Data columns (total 22 columns):\n",
      " #   Column                  Non-Null Count  Dtype  \n",
      "---  ------                  --------------  -----  \n",
      " 0   Block                   10506 non-null  int64  \n",
      " 1   AddressAccuracy         10506 non-null  int64  \n",
      " 2   Species_CULEX PIPIENS   10506 non-null  int64  \n",
      " 3   Species_CULEX RESTUANS  10506 non-null  int64  \n",
      " 4   Tmax                    10506 non-null  int64  \n",
      " 5   Tmin                    10506 non-null  int64  \n",
      " 6   Tavg                    10506 non-null  float64\n",
      " 7   Depart                  10506 non-null  float64\n",
      " 8   DewPoint                10506 non-null  int64  \n",
      " 9   WetBulb                 10506 non-null  float64\n",
      " 10  Heat                    10506 non-null  float64\n",
      " 11  Cool                    10506 non-null  float64\n",
      " 12  Sunrise                 10506 non-null  float64\n",
      " 13  Sunset                  10506 non-null  float64\n",
      " 14  PrecipTotal             10506 non-null  float64\n",
      " 15  StnPressure             10506 non-null  float64\n",
      " 16  SeaLevel                10506 non-null  float64\n",
      " 17  ResultSpeed             10506 non-null  float64\n",
      " 18  ResultDir               10506 non-null  int64  \n",
      " 19  AvgSpeed                10506 non-null  float64\n",
      " 20  Year                    10506 non-null  int64  \n",
      " 21  Month                   10506 non-null  int64  \n",
      "dtypes: float64(12), int64(10)\n",
      "memory usage: 1.8 MB\n"
     ]
    }
   ],
   "source": [
    "train_merged.info()"
   ]
  },
  {
   "cell_type": "code",
   "execution_count": 102,
   "id": "80f46429",
   "metadata": {},
   "outputs": [
    {
     "name": "stdout",
     "output_type": "stream",
     "text": [
      "<class 'pandas.core.frame.DataFrame'>\n",
      "DatetimeIndex: 10506 entries, 2007-05-29 to 2013-09-26\n",
      "Data columns (total 2 columns):\n",
      " #   Column        Non-Null Count  Dtype\n",
      "---  ------        --------------  -----\n",
      " 0   NumMosquitos  10506 non-null  int64\n",
      " 1   WnvPresent    10506 non-null  int64\n",
      "dtypes: int64(2)\n",
      "memory usage: 246.2 KB\n"
     ]
    }
   ],
   "source": [
    "train_targets.info()"
   ]
  },
  {
   "cell_type": "code",
   "execution_count": 103,
   "id": "5db8178d",
   "metadata": {},
   "outputs": [
    {
     "name": "stdout",
     "output_type": "stream",
     "text": [
      "<class 'pandas.core.frame.DataFrame'>\n",
      "DatetimeIndex: 101948 entries, 2008-06-11 to 2014-10-02\n",
      "Data columns (total 22 columns):\n",
      " #   Column                  Non-Null Count   Dtype  \n",
      "---  ------                  --------------   -----  \n",
      " 0   Block                   101948 non-null  int64  \n",
      " 1   AddressAccuracy         101948 non-null  int64  \n",
      " 2   Species_CULEX PIPIENS   101948 non-null  int64  \n",
      " 3   Species_CULEX RESTUANS  101948 non-null  int64  \n",
      " 4   Tmax                    101948 non-null  int64  \n",
      " 5   Tmin                    101948 non-null  int64  \n",
      " 6   Tavg                    101948 non-null  float64\n",
      " 7   Depart                  101948 non-null  float64\n",
      " 8   DewPoint                101948 non-null  int64  \n",
      " 9   WetBulb                 101948 non-null  float64\n",
      " 10  Heat                    101948 non-null  float64\n",
      " 11  Cool                    101948 non-null  float64\n",
      " 12  Sunrise                 101948 non-null  float64\n",
      " 13  Sunset                  101948 non-null  float64\n",
      " 14  PrecipTotal             101948 non-null  float64\n",
      " 15  StnPressure             101948 non-null  float64\n",
      " 16  SeaLevel                101948 non-null  float64\n",
      " 17  ResultSpeed             101948 non-null  float64\n",
      " 18  ResultDir               101948 non-null  int64  \n",
      " 19  AvgSpeed                101948 non-null  float64\n",
      " 20  Year                    101948 non-null  int64  \n",
      " 21  Month                   101948 non-null  int64  \n",
      "dtypes: float64(12), int64(10)\n",
      "memory usage: 17.9 MB\n"
     ]
    }
   ],
   "source": [
    "test_merged.info()"
   ]
  },
  {
   "cell_type": "markdown",
   "id": "3c0a090f",
   "metadata": {},
   "source": [
    "# Split the merged training data into train & test\n",
    "- **NOTE** that the dataframe called `test` is new data which will be applied for the final outcome. This `test` dataset has no information of `WnvPresent` and `NumMosquitos`.\n",
    "- train dataset will be splitted into tr_train and tr_test for building and testing a model"
   ]
  },
  {
   "cell_type": "code",
   "execution_count": 104,
   "id": "deb6bc54",
   "metadata": {},
   "outputs": [],
   "source": [
    "X_tr_train, X_tr_test, y_tr_train, y_tr_test = train_test_split(train_merged, targets.WnvPresent, test_size=0.3, random_state=23)"
   ]
  },
  {
   "cell_type": "code",
   "execution_count": 105,
   "id": "bc8f446a",
   "metadata": {},
   "outputs": [
    {
     "name": "stdout",
     "output_type": "stream",
     "text": [
      "Virus Positive ratio\n",
      "train: 0.051944519989121564\n",
      "test:  0.053616751269035534\n"
     ]
    }
   ],
   "source": [
    "''' Check whether the data is equally splited '''\n",
    "print('Virus Positive ratio')\n",
    "print('train: {}'.format(y_tr_train.sum()/len(y_tr_train)))\n",
    "print('test:  {}'.format(y_tr_test.sum()/len(y_tr_test)))"
   ]
  },
  {
   "cell_type": "code",
   "execution_count": 106,
   "id": "eb2888b7",
   "metadata": {},
   "outputs": [
    {
     "name": "stdout",
     "output_type": "stream",
     "text": [
      "<class 'pandas.core.frame.DataFrame'>\n",
      "DatetimeIndex: 7354 entries, 2009-07-13 to 2013-07-12\n",
      "Data columns (total 22 columns):\n",
      " #   Column                  Non-Null Count  Dtype  \n",
      "---  ------                  --------------  -----  \n",
      " 0   Block                   7354 non-null   int64  \n",
      " 1   AddressAccuracy         7354 non-null   int64  \n",
      " 2   Species_CULEX PIPIENS   7354 non-null   int64  \n",
      " 3   Species_CULEX RESTUANS  7354 non-null   int64  \n",
      " 4   Tmax                    7354 non-null   int64  \n",
      " 5   Tmin                    7354 non-null   int64  \n",
      " 6   Tavg                    7354 non-null   float64\n",
      " 7   Depart                  7354 non-null   float64\n",
      " 8   DewPoint                7354 non-null   int64  \n",
      " 9   WetBulb                 7354 non-null   float64\n",
      " 10  Heat                    7354 non-null   float64\n",
      " 11  Cool                    7354 non-null   float64\n",
      " 12  Sunrise                 7354 non-null   float64\n",
      " 13  Sunset                  7354 non-null   float64\n",
      " 14  PrecipTotal             7354 non-null   float64\n",
      " 15  StnPressure             7354 non-null   float64\n",
      " 16  SeaLevel                7354 non-null   float64\n",
      " 17  ResultSpeed             7354 non-null   float64\n",
      " 18  ResultDir               7354 non-null   int64  \n",
      " 19  AvgSpeed                7354 non-null   float64\n",
      " 20  Year                    7354 non-null   int64  \n",
      " 21  Month                   7354 non-null   int64  \n",
      "dtypes: float64(12), int64(10)\n",
      "memory usage: 1.3 MB\n"
     ]
    }
   ],
   "source": [
    "X_tr_train.info()"
   ]
  },
  {
   "cell_type": "code",
   "execution_count": 107,
   "id": "43e8d850",
   "metadata": {},
   "outputs": [
    {
     "name": "stdout",
     "output_type": "stream",
     "text": [
      "<class 'pandas.core.frame.DataFrame'>\n",
      "DatetimeIndex: 3152 entries, 2007-06-26 to 2013-08-08\n",
      "Data columns (total 22 columns):\n",
      " #   Column                  Non-Null Count  Dtype  \n",
      "---  ------                  --------------  -----  \n",
      " 0   Block                   3152 non-null   int64  \n",
      " 1   AddressAccuracy         3152 non-null   int64  \n",
      " 2   Species_CULEX PIPIENS   3152 non-null   int64  \n",
      " 3   Species_CULEX RESTUANS  3152 non-null   int64  \n",
      " 4   Tmax                    3152 non-null   int64  \n",
      " 5   Tmin                    3152 non-null   int64  \n",
      " 6   Tavg                    3152 non-null   float64\n",
      " 7   Depart                  3152 non-null   float64\n",
      " 8   DewPoint                3152 non-null   int64  \n",
      " 9   WetBulb                 3152 non-null   float64\n",
      " 10  Heat                    3152 non-null   float64\n",
      " 11  Cool                    3152 non-null   float64\n",
      " 12  Sunrise                 3152 non-null   float64\n",
      " 13  Sunset                  3152 non-null   float64\n",
      " 14  PrecipTotal             3152 non-null   float64\n",
      " 15  StnPressure             3152 non-null   float64\n",
      " 16  SeaLevel                3152 non-null   float64\n",
      " 17  ResultSpeed             3152 non-null   float64\n",
      " 18  ResultDir               3152 non-null   int64  \n",
      " 19  AvgSpeed                3152 non-null   float64\n",
      " 20  Year                    3152 non-null   int64  \n",
      " 21  Month                   3152 non-null   int64  \n",
      "dtypes: float64(12), int64(10)\n",
      "memory usage: 566.4 KB\n"
     ]
    }
   ],
   "source": [
    "X_tr_test.info()"
   ]
  },
  {
   "cell_type": "code",
   "execution_count": 108,
   "id": "1dfa3e8e",
   "metadata": {},
   "outputs": [
    {
     "name": "stdout",
     "output_type": "stream",
     "text": [
      "<class 'pandas.core.series.Series'>\n",
      "DatetimeIndex: 7354 entries, 2009-07-13 to 2013-07-12\n",
      "Series name: WnvPresent\n",
      "Non-Null Count  Dtype\n",
      "--------------  -----\n",
      "7354 non-null   int64\n",
      "dtypes: int64(1)\n",
      "memory usage: 114.9 KB\n"
     ]
    }
   ],
   "source": [
    "y_tr_train.info()"
   ]
  },
  {
   "cell_type": "markdown",
   "id": "65d098d6",
   "metadata": {},
   "source": [
    "# Scaling"
   ]
  },
  {
   "cell_type": "code",
   "execution_count": 75,
   "id": "f7e75b7f",
   "metadata": {},
   "outputs": [],
   "source": [
    "scaler = StandardScaler()\n",
    "#scaler.fit(X_tr_train)\n",
    "X_tr_train_scaled = scaler.fit_transform(X_tr_train)\n",
    "X_tr_test_scaled  = scaler.transform(X_tr_test)"
   ]
  },
  {
   "cell_type": "markdown",
   "id": "df42c884",
   "metadata": {},
   "source": [
    "# Test Modeling 1: Logistic Regression"
   ]
  },
  {
   "cell_type": "code",
   "execution_count": 76,
   "id": "2fa151d3",
   "metadata": {},
   "outputs": [],
   "source": [
    "LogReg = LogisticRegression(solver='newton-cg', max_iter=1000)"
   ]
  },
  {
   "cell_type": "code",
   "execution_count": 77,
   "id": "d20961f0",
   "metadata": {},
   "outputs": [
    {
     "data": {
      "text/plain": [
       "LogisticRegression(max_iter=1000, solver='newton-cg')"
      ]
     },
     "execution_count": 77,
     "metadata": {},
     "output_type": "execute_result"
    }
   ],
   "source": [
    "LogReg.fit(X_tr_train_scaled, y_tr_train)"
   ]
  },
  {
   "cell_type": "code",
   "execution_count": 78,
   "id": "68f1601c",
   "metadata": {},
   "outputs": [],
   "source": [
    "y_tr_test_predict = LogReg.predict(X_tr_test_scaled)"
   ]
  },
  {
   "cell_type": "code",
   "execution_count": 79,
   "id": "d935e86c",
   "metadata": {},
   "outputs": [
    {
     "name": "stdout",
     "output_type": "stream",
     "text": [
      "Accuracy score (y_tr_test_predict, y_tr_test): 0.9463832487309645\n"
     ]
    }
   ],
   "source": [
    "print(\"Accuracy score (y_tr_test_predict, y_tr_test): {}\".format(accuracy_score(y_tr_test_predict, y_tr_test)))"
   ]
  },
  {
   "cell_type": "code",
   "execution_count": 80,
   "id": "bcf08b20",
   "metadata": {},
   "outputs": [
    {
     "data": {
      "image/png": "[encoded data removed]",
      "text/plain": [
       "<Figure size 800x600 with 2 Axes>"
      ]
     },
     "metadata": {},
     "output_type": "display_data"
    }
   ],
   "source": [
    "''' plot the confusion matrix '''\n",
    "cm = confusion_matrix(y_tr_test, y_tr_test_predict, labels = LogReg.classes_)\n",
    "display_cm = ConfusionMatrixDisplay(confusion_matrix = cm, \n",
    "                                    display_labels = ['no West Nile Virus', 'West Nile Virus'])\n",
    "fig, ax = plt.subplots()\n",
    "display_cm.plot(ax=ax);\n",
    "\n",
    "#ax.set_xticks([0, 1])\n",
    "#ax.set_yticks([0, 1])\n",
    "#ax.set_xticklabels(labels = ['no heart disease', 'heart disease'], fontsize = 8)\n",
    "#ax.set_yticklabels(labels = ['no heart disease', 'heart disease'], fontsize = 8);"
   ]
  },
  {
   "cell_type": "markdown",
   "id": "968214ac",
   "metadata": {},
   "source": [
    "<div class='alert alert-danger'>\n",
    "Note:\n",
    "    \n",
    "- Since the data is highly imbanaced, the first model with ***Logistic Regression*** was not successful.\n",
    "</div>"
   ]
  },
  {
   "cell_type": "markdown",
   "id": "a9dfb94d",
   "metadata": {},
   "source": [
    "# Test Modeling 2: Random Forest Classifier"
   ]
  },
  {
   "cell_type": "code",
   "execution_count": 81,
   "id": "5efda5a9",
   "metadata": {},
   "outputs": [],
   "source": [
    "Rand = RandomForestClassifier(random_state=42)"
   ]
  },
  {
   "cell_type": "code",
   "execution_count": 82,
   "id": "77bd6511",
   "metadata": {},
   "outputs": [
    {
     "data": {
      "text/plain": [
       "RandomForestClassifier(random_state=42)"
      ]
     },
     "execution_count": 82,
     "metadata": {},
     "output_type": "execute_result"
    }
   ],
   "source": [
    "Rand.fit(X_tr_train_scaled, y_tr_train)"
   ]
  },
  {
   "cell_type": "code",
   "execution_count": 83,
   "id": "bbcdc7e4",
   "metadata": {},
   "outputs": [],
   "source": [
    "y_tr_test_predict = Rand.predict(X_tr_test_scaled)"
   ]
  },
  {
   "cell_type": "code",
   "execution_count": 84,
   "id": "9a396ad6",
   "metadata": {},
   "outputs": [
    {
     "name": "stdout",
     "output_type": "stream",
     "text": [
      "Accuracy score (y_tr_test_predict, y_tr_test): 0.9270304568527918\n"
     ]
    }
   ],
   "source": [
    "print(\"Accuracy score (y_tr_test_predict, y_tr_test): {}\".format(accuracy_score(y_tr_test_predict, y_tr_test)))"
   ]
  },
  {
   "cell_type": "code",
   "execution_count": 85,
   "id": "573a9dd4",
   "metadata": {},
   "outputs": [
    {
     "data": {
      "image/png": "[encoded data removed]",
      "text/plain": [
       "<Figure size 800x600 with 2 Axes>"
      ]
     },
     "metadata": {},
     "output_type": "display_data"
    }
   ],
   "source": [
    "''' plot the confusion matrix '''\n",
    "cm = confusion_matrix(y_tr_test, y_tr_test_predict, labels = LogReg.classes_)\n",
    "display_cm = ConfusionMatrixDisplay(confusion_matrix = cm, \n",
    "                                    display_labels = ['no West Nile Virus', 'West Nile Virus'])\n",
    "fig, ax = plt.subplots()\n",
    "display_cm.plot(ax=ax);"
   ]
  },
  {
   "cell_type": "markdown",
   "id": "21db5ebf",
   "metadata": {},
   "source": [
    "<div class='alert alert-danger'>\n",
    "Note:\n",
    "    \n",
    "- The second model with ***Random Forest*** could detect some West Nile Virus, which is better than the result from the ***Logistic Regression***, but still the result is not good enough.\n",
    "- We need to proceed over-sampling or under-sampling to resolve the problem with **imbalanced dataset**.\n",
    "</div>"
   ]
  },
  {
   "cell_type": "markdown",
   "id": "ea16bdd5",
   "metadata": {},
   "source": [
    "# Imbalanced Classification\n",
    "- Oversampling for the minority feature (negative West Nile Virus)"
   ]
  },
  {
   "cell_type": "code",
   "execution_count": 86,
   "id": "168fe31b",
   "metadata": {},
   "outputs": [
    {
     "name": "stdout",
     "output_type": "stream",
     "text": [
      "Counter({0: 9955, 1: 551})\n"
     ]
    }
   ],
   "source": [
    "print(Counter(targets.WnvPresent))"
   ]
  },
  {
   "cell_type": "code",
   "execution_count": 87,
   "id": "c65666bb",
   "metadata": {},
   "outputs": [
    {
     "name": "stdout",
     "output_type": "stream",
     "text": [
      "Counter({0: 9955, 1: 9955})\n"
     ]
    }
   ],
   "source": [
    "# instantiating the random over sampler \n",
    "ros = RandomOverSampler()\n",
    "\n",
    "# resampling X, y\n",
    "X_ros, y_ros = ros.fit_resample(train_merged, targets.WnvPresent)\n",
    "\n",
    "# new class distribution \n",
    "print(Counter(y_ros))"
   ]
  },
  {
   "cell_type": "code",
   "execution_count": 88,
   "id": "4dec4c10",
   "metadata": {},
   "outputs": [],
   "source": [
    "X_tr_train, X_tr_test, y_tr_train, y_tr_test = train_test_split(X_ros, y_ros, test_size=0.3, random_state=23)"
   ]
  },
  {
   "cell_type": "code",
   "execution_count": 89,
   "id": "3787ecef",
   "metadata": {},
   "outputs": [
    {
     "name": "stdout",
     "output_type": "stream",
     "text": [
      "Virus Positive ratio\n",
      "train: 0.4996053670086819\n",
      "test:  0.5009208103130756\n"
     ]
    }
   ],
   "source": [
    "''' Check whether the data is equally splited '''\n",
    "print('Virus Positive ratio')\n",
    "print('train: {}'.format(y_tr_train.sum()/len(y_tr_train)))\n",
    "print('test:  {}'.format(y_tr_test.sum()/len(y_tr_test)))"
   ]
  },
  {
   "cell_type": "code",
   "execution_count": 90,
   "id": "bb251425",
   "metadata": {},
   "outputs": [
    {
     "name": "stdout",
     "output_type": "stream",
     "text": [
      "<class 'pandas.core.frame.DataFrame'>\n",
      "Int64Index: 13937 entries, 13742 to 8787\n",
      "Data columns (total 22 columns):\n",
      " #   Column                  Non-Null Count  Dtype  \n",
      "---  ------                  --------------  -----  \n",
      " 0   Block                   13937 non-null  int64  \n",
      " 1   AddressAccuracy         13937 non-null  int64  \n",
      " 2   Species_CULEX PIPIENS   13937 non-null  uint8  \n",
      " 3   Species_CULEX RESTUANS  13937 non-null  uint8  \n",
      " 4   Tmax                    13937 non-null  int64  \n",
      " 5   Tmin                    13937 non-null  int64  \n",
      " 6   Tavg                    13937 non-null  float64\n",
      " 7   Depart                  13937 non-null  float64\n",
      " 8   DewPoint                13937 non-null  int64  \n",
      " 9   WetBulb                 13937 non-null  float64\n",
      " 10  Heat                    13937 non-null  float64\n",
      " 11  Cool                    13937 non-null  float64\n",
      " 12  Sunrise                 13937 non-null  float64\n",
      " 13  Sunset                  13937 non-null  float64\n",
      " 14  PrecipTotal             13937 non-null  float64\n",
      " 15  StnPressure             13937 non-null  float64\n",
      " 16  SeaLevel                13937 non-null  float64\n",
      " 17  ResultSpeed             13937 non-null  float64\n",
      " 18  ResultDir               13937 non-null  int64  \n",
      " 19  AvgSpeed                13937 non-null  float64\n",
      " 20  Year                    13937 non-null  int64  \n",
      " 21  Month                   13937 non-null  int64  \n",
      "dtypes: float64(12), int64(8), uint8(2)\n",
      "memory usage: 2.3 MB\n"
     ]
    }
   ],
   "source": [
    "X_tr_train.info()"
   ]
  },
  {
   "cell_type": "code",
   "execution_count": 91,
   "id": "b2924d4d",
   "metadata": {},
   "outputs": [
    {
     "name": "stdout",
     "output_type": "stream",
     "text": [
      "<class 'pandas.core.frame.DataFrame'>\n",
      "Int64Index: 5973 entries, 6553 to 2089\n",
      "Data columns (total 22 columns):\n",
      " #   Column                  Non-Null Count  Dtype  \n",
      "---  ------                  --------------  -----  \n",
      " 0   Block                   5973 non-null   int64  \n",
      " 1   AddressAccuracy         5973 non-null   int64  \n",
      " 2   Species_CULEX PIPIENS   5973 non-null   uint8  \n",
      " 3   Species_CULEX RESTUANS  5973 non-null   uint8  \n",
      " 4   Tmax                    5973 non-null   int64  \n",
      " 5   Tmin                    5973 non-null   int64  \n",
      " 6   Tavg                    5973 non-null   float64\n",
      " 7   Depart                  5973 non-null   float64\n",
      " 8   DewPoint                5973 non-null   int64  \n",
      " 9   WetBulb                 5973 non-null   float64\n",
      " 10  Heat                    5973 non-null   float64\n",
      " 11  Cool                    5973 non-null   float64\n",
      " 12  Sunrise                 5973 non-null   float64\n",
      " 13  Sunset                  5973 non-null   float64\n",
      " 14  PrecipTotal             5973 non-null   float64\n",
      " 15  StnPressure             5973 non-null   float64\n",
      " 16  SeaLevel                5973 non-null   float64\n",
      " 17  ResultSpeed             5973 non-null   float64\n",
      " 18  ResultDir               5973 non-null   int64  \n",
      " 19  AvgSpeed                5973 non-null   float64\n",
      " 20  Year                    5973 non-null   int64  \n",
      " 21  Month                   5973 non-null   int64  \n",
      "dtypes: float64(12), int64(8), uint8(2)\n",
      "memory usage: 991.6 KB\n"
     ]
    }
   ],
   "source": [
    "X_tr_test.info()"
   ]
  },
  {
   "cell_type": "code",
   "execution_count": 92,
   "id": "bf82c24a",
   "metadata": {},
   "outputs": [
    {
     "name": "stdout",
     "output_type": "stream",
     "text": [
      "<class 'pandas.core.series.Series'>\n",
      "Int64Index: 13937 entries, 13742 to 8787\n",
      "Series name: WnvPresent\n",
      "Non-Null Count  Dtype\n",
      "--------------  -----\n",
      "13937 non-null  int64\n",
      "dtypes: int64(1)\n",
      "memory usage: 217.8 KB\n"
     ]
    }
   ],
   "source": [
    "y_tr_train.info()"
   ]
  },
  {
   "cell_type": "markdown",
   "id": "f921a72a",
   "metadata": {},
   "source": [
    "## Scaling"
   ]
  },
  {
   "cell_type": "code",
   "execution_count": 93,
   "id": "ae405ce4",
   "metadata": {},
   "outputs": [],
   "source": [
    "scaler = StandardScaler()\n",
    "#scaler.fit(X_tr_train)\n",
    "X_tr_train_scaled = scaler.fit_transform(X_tr_train)\n",
    "X_tr_test_scaled  = scaler.transform(X_tr_test)"
   ]
  },
  {
   "cell_type": "markdown",
   "id": "e557f8bc",
   "metadata": {},
   "source": [
    "## Test Modeling with the balanced dataset: Logistic Regression"
   ]
  },
  {
   "cell_type": "code",
   "execution_count": 94,
   "id": "e553e6fe",
   "metadata": {},
   "outputs": [],
   "source": [
    "LogReg = LogisticRegression(solver='newton-cg', max_iter=1000)"
   ]
  },
  {
   "cell_type": "code",
   "execution_count": 95,
   "id": "e0c4e3bf",
   "metadata": {},
   "outputs": [
    {
     "data": {
      "text/plain": [
       "LogisticRegression(max_iter=1000, solver='newton-cg')"
      ]
     },
     "execution_count": 95,
     "metadata": {},
     "output_type": "execute_result"
    }
   ],
   "source": [
    "LogReg.fit(X_tr_train_scaled, y_tr_train)"
   ]
  },
  {
   "cell_type": "code",
   "execution_count": 96,
   "id": "11006d1e",
   "metadata": {},
   "outputs": [],
   "source": [
    "y_tr_test_predict = LogReg.predict(X_tr_test_scaled)"
   ]
  },
  {
   "cell_type": "code",
   "execution_count": 97,
   "id": "e9c8e87c",
   "metadata": {},
   "outputs": [
    {
     "name": "stdout",
     "output_type": "stream",
     "text": [
      "Accuracy score (y_tr_test_predict, y_tr_test): 0.7483676544450025\n"
     ]
    }
   ],
   "source": [
    "print(\"Accuracy score (y_tr_test_predict, y_tr_test): {}\".format(accuracy_score(y_tr_test_predict, y_tr_test)))"
   ]
  },
  {
   "cell_type": "code",
   "execution_count": 98,
   "id": "cab96fb8",
   "metadata": {},
   "outputs": [
    {
     "data": {
      "image/png": "[encoded data removed]",
      "text/plain": [
       "<Figure size 800x600 with 2 Axes>"
      ]
     },
     "metadata": {},
     "output_type": "display_data"
    }
   ],
   "source": [
    "''' plot the confusion matrix '''\n",
    "cm = confusion_matrix(y_tr_test, y_tr_test_predict, labels = LogReg.classes_)\n",
    "display_cm = ConfusionMatrixDisplay(confusion_matrix = cm, \n",
    "                                    display_labels = ['no West Nile Virus', 'West Nile Virus'])\n",
    "fig, ax = plt.subplots()\n",
    "display_cm.plot(ax=ax);"
   ]
  },
  {
   "cell_type": "markdown",
   "id": "b7f42d77",
   "metadata": {},
   "source": [
    "> - Now we could see that the model is greatly improved, and the balanced dataset is ready for building the models.\n",
    "> - We will develop several models in the next step, and check the statistics and diagnostics like Receiver Operating Characteristics curve to find the best-bet one."
   ]
  },
  {
   "cell_type": "markdown",
   "id": "7207d146",
   "metadata": {},
   "source": [
    "# Conclusion"
   ]
  },
  {
   "cell_type": "markdown",
   "id": "7708f549",
   "metadata": {},
   "source": [
    "In this preprocessing and feature engineering process, \n",
    "- re-checked the dataset and selected features of interest\n",
    "- re-organized the categorical features by using one-hot code\n",
    "- merged two separate datasets into one which would be used for modeling\n",
    "- splitted the dataset into trainning and test ones \n",
    "- re-scaled (standardized) the dataset.\n",
    "\n",
    "We found that the number of West Nile Virus positive cases is significantly smaller than that of negative cases (**Imblanced Classification**), the additional balancing process is demanded. "
   ]
  }
 ],
 "metadata": {
  "kernelspec": {
   "display_name": "Python 3 (ipykernel)",
   "language": "python",
   "name": "python3"
  },
  "language_info": {
   "codemirror_mode": {
    "name": "ipython",
    "version": 3
   },
   "file_extension": ".py",
   "mimetype": "text/x-python",
   "name": "python",
   "nbconvert_exporter": "python",
   "pygments_lexer": "ipython3",
   "version": "3.8.3"
  },
  "toc-autonumbering": false
 },
 "nbformat": 4,
 "nbformat_minor": 5
}
