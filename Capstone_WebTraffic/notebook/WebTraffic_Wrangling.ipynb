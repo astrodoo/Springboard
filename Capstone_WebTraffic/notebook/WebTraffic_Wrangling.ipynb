{
 "cells": [
  {
   "cell_type": "markdown",
   "id": "23bb4b2d",
   "metadata": {},
   "source": [
    "# Capstone: Web Traffic Time Series Forecasting\n",
    "\n",
    "![web](images/map_webtraffic.png)\n",
    "\n",
    "reference: [Kaggle Challenge 2017](https://www.kaggle.com/competitions/web-traffic-time-series-forecasting/data)\n",
    "\n",
    "- Web traffic can be defined as the number of visits to a website, including requests sent and received by web users. We aim to predict future web traffic for approximately a total of 145k Wikipedia articles to make better traffic control decisions. The increase in traffic for the websites could cause a lot of inconvenience for the users by a crashed site or very slow loading time. Therefore, a traffic management technique or plan should be put in place to reduce the risk of such problems."
   ]
  },
  {
   "cell_type": "markdown",
   "id": "1a0868f6",
   "metadata": {},
   "source": [
    "# Import packages and define functions"
   ]
  },
  {
   "cell_type": "code",
   "execution_count": 1,
   "id": "ff007f48",
   "metadata": {},
   "outputs": [],
   "source": [
    "import pandas as pd\n",
    "import numpy as np\n",
    "import os\n",
    "import matplotlib.pyplot as plt\n",
    "import re\n",
    "import seaborn as sns\n",
    "import datetime \n",
    "\n",
    "%matplotlib inline \n",
    "\n",
    "sns.set_style('ticks', rc={'xtick.direction':'in', 'ytick.direction':'in', \\\n",
    "                           'xtick.top':True, 'ytick.right':True})"
   ]
  },
  {
   "cell_type": "markdown",
   "id": "3af3a5ab",
   "metadata": {},
   "source": [
    "# Data Collection and Wrangling"
   ]
  },
  {
   "cell_type": "code",
   "execution_count": 2,
   "id": "46375615",
   "metadata": {},
   "outputs": [],
   "source": [
    "datadir = '../datasets/raw'\n",
    "datadir_pr = '../datasets/processed'  # directory where the cleaned datasets are stored"
   ]
  },
  {
   "cell_type": "markdown",
   "id": "dadfd452",
   "metadata": {},
   "source": [
    "## Datasets consist of train and key:\n",
    "- **train.csv**\n",
    "    - 145k rows each of wich represent a different Wikipedia page\n",
    "    - 804 columns: article + daily traffic on that particular Wikipedia page (803 days: 2015-07-01 to 2017-09-10)\n",
    "    - The first column contains the name of the page which includes \n",
    "        - the language of the page (e.g., English en, Spanish es, Chinese zh)\n",
    "        - type of access (e.g., desktop, all access)\n",
    "        - agent (e.g., spider, actual traffic)\n",
    "- **key.csv**\n",
    "    - the mapping between the page names and the shortened Id column used for prediction\n",
    "    - 2 columns: page name (consistent to the page name in train.csv) and id"
   ]
  },
  {
   "cell_type": "code",
   "execution_count": 3,
   "id": "ddb7aa46",
   "metadata": {},
   "outputs": [],
   "source": [
    "''' Read the training dataset '''\n",
    "train = pd.read_csv(os.path.join(datadir, 'train_2.csv.zip'))\n",
    "key   = pd.read_csv(os.path.join(datadir, 'key_2.csv.zip'))"
   ]
  },
  {
   "cell_type": "code",
   "execution_count": 4,
   "id": "b88eb616",
   "metadata": {},
   "outputs": [
    {
     "data": {
      "text/html": [
       "<div>\n",
       "<style scoped>\n",
       "    .dataframe tbody tr th:only-of-type {\n",
       "        vertical-align: middle;\n",
       "    }\n",
       "\n",
       "    .dataframe tbody tr th {\n",
       "        vertical-align: top;\n",
       "    }\n",
       "\n",
       "    .dataframe thead th {\n",
       "        text-align: right;\n",
       "    }\n",
       "</style>\n",
       "<table border=\"1\" class=\"dataframe\">\n",
       "  <thead>\n",
       "    <tr style=\"text-align: right;\">\n",
       "      <th></th>\n",
       "      <th>Page</th>\n",
       "      <th>2015-07-01</th>\n",
       "      <th>2015-07-02</th>\n",
       "      <th>2015-07-03</th>\n",
       "      <th>2015-07-04</th>\n",
       "      <th>2015-07-05</th>\n",
       "      <th>2015-07-06</th>\n",
       "      <th>2015-07-07</th>\n",
       "      <th>2015-07-08</th>\n",
       "      <th>2015-07-09</th>\n",
       "      <th>...</th>\n",
       "      <th>2017-09-01</th>\n",
       "      <th>2017-09-02</th>\n",
       "      <th>2017-09-03</th>\n",
       "      <th>2017-09-04</th>\n",
       "      <th>2017-09-05</th>\n",
       "      <th>2017-09-06</th>\n",
       "      <th>2017-09-07</th>\n",
       "      <th>2017-09-08</th>\n",
       "      <th>2017-09-09</th>\n",
       "      <th>2017-09-10</th>\n",
       "    </tr>\n",
       "  </thead>\n",
       "  <tbody>\n",
       "    <tr>\n",
       "      <th>0</th>\n",
       "      <td>2NE1_zh.wikipedia.org_all-access_spider</td>\n",
       "      <td>18.0</td>\n",
       "      <td>11.0</td>\n",
       "      <td>5.0</td>\n",
       "      <td>13.0</td>\n",
       "      <td>14.0</td>\n",
       "      <td>9.0</td>\n",
       "      <td>9.0</td>\n",
       "      <td>22.0</td>\n",
       "      <td>26.0</td>\n",
       "      <td>...</td>\n",
       "      <td>19.0</td>\n",
       "      <td>33.0</td>\n",
       "      <td>33.0</td>\n",
       "      <td>18.0</td>\n",
       "      <td>16.0</td>\n",
       "      <td>27.0</td>\n",
       "      <td>29.0</td>\n",
       "      <td>23.0</td>\n",
       "      <td>54.0</td>\n",
       "      <td>38.0</td>\n",
       "    </tr>\n",
       "    <tr>\n",
       "      <th>1</th>\n",
       "      <td>2PM_zh.wikipedia.org_all-access_spider</td>\n",
       "      <td>11.0</td>\n",
       "      <td>14.0</td>\n",
       "      <td>15.0</td>\n",
       "      <td>18.0</td>\n",
       "      <td>11.0</td>\n",
       "      <td>13.0</td>\n",
       "      <td>22.0</td>\n",
       "      <td>11.0</td>\n",
       "      <td>10.0</td>\n",
       "      <td>...</td>\n",
       "      <td>32.0</td>\n",
       "      <td>30.0</td>\n",
       "      <td>11.0</td>\n",
       "      <td>19.0</td>\n",
       "      <td>54.0</td>\n",
       "      <td>25.0</td>\n",
       "      <td>26.0</td>\n",
       "      <td>23.0</td>\n",
       "      <td>13.0</td>\n",
       "      <td>81.0</td>\n",
       "    </tr>\n",
       "    <tr>\n",
       "      <th>2</th>\n",
       "      <td>3C_zh.wikipedia.org_all-access_spider</td>\n",
       "      <td>1.0</td>\n",
       "      <td>0.0</td>\n",
       "      <td>1.0</td>\n",
       "      <td>1.0</td>\n",
       "      <td>0.0</td>\n",
       "      <td>4.0</td>\n",
       "      <td>0.0</td>\n",
       "      <td>3.0</td>\n",
       "      <td>4.0</td>\n",
       "      <td>...</td>\n",
       "      <td>6.0</td>\n",
       "      <td>6.0</td>\n",
       "      <td>7.0</td>\n",
       "      <td>2.0</td>\n",
       "      <td>4.0</td>\n",
       "      <td>7.0</td>\n",
       "      <td>3.0</td>\n",
       "      <td>4.0</td>\n",
       "      <td>7.0</td>\n",
       "      <td>6.0</td>\n",
       "    </tr>\n",
       "    <tr>\n",
       "      <th>3</th>\n",
       "      <td>4minute_zh.wikipedia.org_all-access_spider</td>\n",
       "      <td>35.0</td>\n",
       "      <td>13.0</td>\n",
       "      <td>10.0</td>\n",
       "      <td>94.0</td>\n",
       "      <td>4.0</td>\n",
       "      <td>26.0</td>\n",
       "      <td>14.0</td>\n",
       "      <td>9.0</td>\n",
       "      <td>11.0</td>\n",
       "      <td>...</td>\n",
       "      <td>7.0</td>\n",
       "      <td>19.0</td>\n",
       "      <td>19.0</td>\n",
       "      <td>9.0</td>\n",
       "      <td>6.0</td>\n",
       "      <td>16.0</td>\n",
       "      <td>19.0</td>\n",
       "      <td>30.0</td>\n",
       "      <td>38.0</td>\n",
       "      <td>4.0</td>\n",
       "    </tr>\n",
       "    <tr>\n",
       "      <th>4</th>\n",
       "      <td>52_Hz_I_Love_You_zh.wikipedia.org_all-access_s...</td>\n",
       "      <td>NaN</td>\n",
       "      <td>NaN</td>\n",
       "      <td>NaN</td>\n",
       "      <td>NaN</td>\n",
       "      <td>NaN</td>\n",
       "      <td>NaN</td>\n",
       "      <td>NaN</td>\n",
       "      <td>NaN</td>\n",
       "      <td>NaN</td>\n",
       "      <td>...</td>\n",
       "      <td>16.0</td>\n",
       "      <td>16.0</td>\n",
       "      <td>19.0</td>\n",
       "      <td>9.0</td>\n",
       "      <td>20.0</td>\n",
       "      <td>23.0</td>\n",
       "      <td>28.0</td>\n",
       "      <td>14.0</td>\n",
       "      <td>8.0</td>\n",
       "      <td>7.0</td>\n",
       "    </tr>\n",
       "  </tbody>\n",
       "</table>\n",
       "<p>5 rows × 804 columns</p>\n",
       "</div>"
      ],
      "text/plain": [
       "                                                Page  2015-07-01  2015-07-02  \\\n",
       "0            2NE1_zh.wikipedia.org_all-access_spider        18.0        11.0   \n",
       "1             2PM_zh.wikipedia.org_all-access_spider        11.0        14.0   \n",
       "2              3C_zh.wikipedia.org_all-access_spider         1.0         0.0   \n",
       "3         4minute_zh.wikipedia.org_all-access_spider        35.0        13.0   \n",
       "4  52_Hz_I_Love_You_zh.wikipedia.org_all-access_s...         NaN         NaN   \n",
       "\n",
       "   2015-07-03  2015-07-04  2015-07-05  2015-07-06  2015-07-07  2015-07-08  \\\n",
       "0         5.0        13.0        14.0         9.0         9.0        22.0   \n",
       "1        15.0        18.0        11.0        13.0        22.0        11.0   \n",
       "2         1.0         1.0         0.0         4.0         0.0         3.0   \n",
       "3        10.0        94.0         4.0        26.0        14.0         9.0   \n",
       "4         NaN         NaN         NaN         NaN         NaN         NaN   \n",
       "\n",
       "   2015-07-09  ...  2017-09-01  2017-09-02  2017-09-03  2017-09-04  \\\n",
       "0        26.0  ...        19.0        33.0        33.0        18.0   \n",
       "1        10.0  ...        32.0        30.0        11.0        19.0   \n",
       "2         4.0  ...         6.0         6.0         7.0         2.0   \n",
       "3        11.0  ...         7.0        19.0        19.0         9.0   \n",
       "4         NaN  ...        16.0        16.0        19.0         9.0   \n",
       "\n",
       "   2017-09-05  2017-09-06  2017-09-07  2017-09-08  2017-09-09  2017-09-10  \n",
       "0        16.0        27.0        29.0        23.0        54.0        38.0  \n",
       "1        54.0        25.0        26.0        23.0        13.0        81.0  \n",
       "2         4.0         7.0         3.0         4.0         7.0         6.0  \n",
       "3         6.0        16.0        19.0        30.0        38.0         4.0  \n",
       "4        20.0        23.0        28.0        14.0         8.0         7.0  \n",
       "\n",
       "[5 rows x 804 columns]"
      ]
     },
     "execution_count": 4,
     "metadata": {},
     "output_type": "execute_result"
    }
   ],
   "source": [
    "train.head()"
   ]
  },
  {
   "cell_type": "code",
   "execution_count": 5,
   "id": "963a011e",
   "metadata": {},
   "outputs": [
    {
     "data": {
      "text/html": [
       "<div>\n",
       "<style scoped>\n",
       "    .dataframe tbody tr th:only-of-type {\n",
       "        vertical-align: middle;\n",
       "    }\n",
       "\n",
       "    .dataframe tbody tr th {\n",
       "        vertical-align: top;\n",
       "    }\n",
       "\n",
       "    .dataframe thead th {\n",
       "        text-align: right;\n",
       "    }\n",
       "</style>\n",
       "<table border=\"1\" class=\"dataframe\">\n",
       "  <thead>\n",
       "    <tr style=\"text-align: right;\">\n",
       "      <th></th>\n",
       "      <th>Page</th>\n",
       "      <th>Id</th>\n",
       "    </tr>\n",
       "  </thead>\n",
       "  <tbody>\n",
       "    <tr>\n",
       "      <th>0</th>\n",
       "      <td>007_スペクター_ja.wikipedia.org_all-access_all-agen...</td>\n",
       "      <td>0b293039387a</td>\n",
       "    </tr>\n",
       "    <tr>\n",
       "      <th>1</th>\n",
       "      <td>007_スペクター_ja.wikipedia.org_all-access_all-agen...</td>\n",
       "      <td>7114389dd824</td>\n",
       "    </tr>\n",
       "    <tr>\n",
       "      <th>2</th>\n",
       "      <td>007_スペクター_ja.wikipedia.org_all-access_all-agen...</td>\n",
       "      <td>057b02ff1f09</td>\n",
       "    </tr>\n",
       "    <tr>\n",
       "      <th>3</th>\n",
       "      <td>007_スペクター_ja.wikipedia.org_all-access_all-agen...</td>\n",
       "      <td>bd2aca21caa3</td>\n",
       "    </tr>\n",
       "    <tr>\n",
       "      <th>4</th>\n",
       "      <td>007_スペクター_ja.wikipedia.org_all-access_all-agen...</td>\n",
       "      <td>c0effb42cdd5</td>\n",
       "    </tr>\n",
       "  </tbody>\n",
       "</table>\n",
       "</div>"
      ],
      "text/plain": [
       "                                                Page            Id\n",
       "0  007_スペクター_ja.wikipedia.org_all-access_all-agen...  0b293039387a\n",
       "1  007_スペクター_ja.wikipedia.org_all-access_all-agen...  7114389dd824\n",
       "2  007_スペクター_ja.wikipedia.org_all-access_all-agen...  057b02ff1f09\n",
       "3  007_スペクター_ja.wikipedia.org_all-access_all-agen...  bd2aca21caa3\n",
       "4  007_スペクター_ja.wikipedia.org_all-access_all-agen...  c0effb42cdd5"
      ]
     },
     "execution_count": 5,
     "metadata": {},
     "output_type": "execute_result"
    }
   ],
   "source": [
    "key.head()"
   ]
  },
  {
   "cell_type": "code",
   "execution_count": 6,
   "id": "ca6685bb",
   "metadata": {},
   "outputs": [
    {
     "name": "stdout",
     "output_type": "stream",
     "text": [
      "<class 'pandas.core.frame.DataFrame'>\n",
      "RangeIndex: 145063 entries, 0 to 145062\n",
      "Columns: 804 entries, Page to 2017-09-10\n",
      "dtypes: float64(803), object(1)\n",
      "memory usage: 889.8+ MB\n"
     ]
    }
   ],
   "source": [
    "train.info()"
   ]
  },
  {
   "cell_type": "code",
   "execution_count": 7,
   "id": "35409384",
   "metadata": {},
   "outputs": [
    {
     "name": "stdout",
     "output_type": "stream",
     "text": [
      "<class 'pandas.core.frame.DataFrame'>\n",
      "RangeIndex: 8993906 entries, 0 to 8993905\n",
      "Data columns (total 2 columns):\n",
      " #   Column  Dtype \n",
      "---  ------  ----- \n",
      " 0   Page    object\n",
      " 1   Id      object\n",
      "dtypes: object(2)\n",
      "memory usage: 137.2+ MB\n"
     ]
    }
   ],
   "source": [
    "key.info()"
   ]
  },
  {
   "cell_type": "code",
   "execution_count": 8,
   "id": "6baf5e1c",
   "metadata": {},
   "outputs": [
    {
     "data": {
      "text/plain": [
       "Page              0\n",
       "2015-07-01    20740\n",
       "2015-07-02    20816\n",
       "2015-07-03    20544\n",
       "2015-07-04    20654\n",
       "              ...  \n",
       "2017-09-06     1775\n",
       "2017-09-07     3467\n",
       "2017-09-08     1061\n",
       "2017-09-09     3332\n",
       "2017-09-10     5578\n",
       "Length: 804, dtype: int64"
      ]
     },
     "execution_count": 8,
     "metadata": {},
     "output_type": "execute_result"
    }
   ],
   "source": [
    "''' check the missing values '''\n",
    "train.isnull().sum()\n",
    "#train.isnull().values.any()"
   ]
  },
  {
   "cell_type": "markdown",
   "id": "07984780",
   "metadata": {},
   "source": [
    "## Handling Missing values\n",
    "\n",
    "- There are two kinds of missing in this time series dataset\n",
    "    1. the data is actually missing --> interpolation \n",
    "    2. the page is not created yet --> fill with zero"
   ]
  },
  {
   "cell_type": "code",
   "execution_count": 9,
   "id": "1a9883f1",
   "metadata": {},
   "outputs": [],
   "source": [
    "# omit the page titles\n",
    "Page_title = train.Page   # keep the page column to revive it after handling the missing data\n",
    "train_nopage = train.drop(columns=['Page'])"
   ]
  },
  {
   "cell_type": "code",
   "execution_count": 10,
   "id": "01564707",
   "metadata": {},
   "outputs": [
    {
     "data": {
      "text/plain": [
       "2015-07-01    20740\n",
       "2015-07-02    20816\n",
       "2015-07-03    20544\n",
       "2015-07-04    20654\n",
       "2015-07-05    20659\n",
       "              ...  \n",
       "2017-09-06     1775\n",
       "2017-09-07     3467\n",
       "2017-09-08     1061\n",
       "2017-09-09     3332\n",
       "2017-09-10     5578\n",
       "Length: 803, dtype: int64"
      ]
     },
     "execution_count": 10,
     "metadata": {},
     "output_type": "execute_result"
    }
   ],
   "source": [
    "train_nopage.isnull().sum()"
   ]
  },
  {
   "cell_type": "code",
   "execution_count": 11,
   "id": "33f45377",
   "metadata": {},
   "outputs": [],
   "source": [
    "# convert the format of column names from string to datetime\n",
    "train_nopage.columns = pd.to_datetime(train_nopage.columns)"
   ]
  },
  {
   "cell_type": "code",
   "execution_count": 12,
   "id": "a1abeb59",
   "metadata": {},
   "outputs": [],
   "source": [
    "# First situation: the data is actually missing\n",
    "# interpolation\n",
    "train_imputed = train_nopage.interpolate(method='linear', axis=1).copy()"
   ]
  },
  {
   "cell_type": "code",
   "execution_count": 13,
   "id": "5af4441f",
   "metadata": {},
   "outputs": [
    {
     "data": {
      "text/plain": [
       "2015-07-01    20740\n",
       "2015-07-02    19767\n",
       "2015-07-03    19256\n",
       "2015-07-04    18983\n",
       "2015-07-05    18818\n",
       "              ...  \n",
       "2017-09-06        0\n",
       "2017-09-07        0\n",
       "2017-09-08        0\n",
       "2017-09-09        0\n",
       "2017-09-10        0\n",
       "Length: 803, dtype: int64"
      ]
     },
     "execution_count": 13,
     "metadata": {},
     "output_type": "execute_result"
    }
   ],
   "source": [
    "train_imputed.isnull().sum()"
   ]
  },
  {
   "cell_type": "code",
   "execution_count": 14,
   "id": "07b0cd80",
   "metadata": {},
   "outputs": [],
   "source": [
    "# Second situation: the page is not created yet\n",
    "# fill with zero\n",
    "train_imputed.fillna(0, inplace=True)"
   ]
  },
  {
   "cell_type": "code",
   "execution_count": 15,
   "id": "958410d8",
   "metadata": {},
   "outputs": [
    {
     "data": {
      "text/plain": [
       "2015-07-01    0\n",
       "2015-07-02    0\n",
       "2015-07-03    0\n",
       "2015-07-04    0\n",
       "2015-07-05    0\n",
       "             ..\n",
       "2017-09-06    0\n",
       "2017-09-07    0\n",
       "2017-09-08    0\n",
       "2017-09-09    0\n",
       "2017-09-10    0\n",
       "Length: 803, dtype: int64"
      ]
     },
     "execution_count": 15,
     "metadata": {},
     "output_type": "execute_result"
    }
   ],
   "source": [
    "train_imputed.isnull().sum()"
   ]
  },
  {
   "cell_type": "code",
   "execution_count": 16,
   "id": "90adb943",
   "metadata": {},
   "outputs": [
    {
     "data": {
      "image/png": "[encoded data removed]",
      "text/plain": [
       "<Figure size 800x600 with 1 Axes>"
      ]
     },
     "metadata": {},
     "output_type": "display_data"
    }
   ],
   "source": [
    "# visualize the imputed dataset\n",
    "fig, ax = plt.subplots()\n",
    "\n",
    "n_obs = 4  # location of the page\n",
    "\n",
    "train_imputed.iloc[n_obs].T.plot(color='red', label='imputed', ax=ax)  # imputed dataset\n",
    "train_nopage.iloc[n_obs].T.plot(color='blue', label='raw', ax=ax)  # raw dataset\n",
    "\n",
    "#ax.set_xlim('2015','2017')\n",
    "ax.set(xlabel='Date', ylabel='Daily Traffic')\n",
    "ax.legend(loc='upper left', frameon=False);"
   ]
  },
  {
   "cell_type": "code",
   "execution_count": 17,
   "id": "32e33a14",
   "metadata": {},
   "outputs": [],
   "source": [
    "train_imputed.insert(loc=0, column='Page', value=Page_title)"
   ]
  },
  {
   "cell_type": "code",
   "execution_count": 18,
   "id": "3ed9424e",
   "metadata": {},
   "outputs": [
    {
     "data": {
      "text/html": [
       "<div>\n",
       "<style scoped>\n",
       "    .dataframe tbody tr th:only-of-type {\n",
       "        vertical-align: middle;\n",
       "    }\n",
       "\n",
       "    .dataframe tbody tr th {\n",
       "        vertical-align: top;\n",
       "    }\n",
       "\n",
       "    .dataframe thead th {\n",
       "        text-align: right;\n",
       "    }\n",
       "</style>\n",
       "<table border=\"1\" class=\"dataframe\">\n",
       "  <thead>\n",
       "    <tr style=\"text-align: right;\">\n",
       "      <th></th>\n",
       "      <th>Page</th>\n",
       "      <th>2015-07-01 00:00:00</th>\n",
       "      <th>2015-07-02 00:00:00</th>\n",
       "      <th>2015-07-03 00:00:00</th>\n",
       "      <th>2015-07-04 00:00:00</th>\n",
       "      <th>2015-07-05 00:00:00</th>\n",
       "      <th>2015-07-06 00:00:00</th>\n",
       "      <th>2015-07-07 00:00:00</th>\n",
       "      <th>2015-07-08 00:00:00</th>\n",
       "      <th>2015-07-09 00:00:00</th>\n",
       "      <th>...</th>\n",
       "      <th>2017-09-01 00:00:00</th>\n",
       "      <th>2017-09-02 00:00:00</th>\n",
       "      <th>2017-09-03 00:00:00</th>\n",
       "      <th>2017-09-04 00:00:00</th>\n",
       "      <th>2017-09-05 00:00:00</th>\n",
       "      <th>2017-09-06 00:00:00</th>\n",
       "      <th>2017-09-07 00:00:00</th>\n",
       "      <th>2017-09-08 00:00:00</th>\n",
       "      <th>2017-09-09 00:00:00</th>\n",
       "      <th>2017-09-10 00:00:00</th>\n",
       "    </tr>\n",
       "  </thead>\n",
       "  <tbody>\n",
       "    <tr>\n",
       "      <th>0</th>\n",
       "      <td>2NE1_zh.wikipedia.org_all-access_spider</td>\n",
       "      <td>18.0</td>\n",
       "      <td>11.0</td>\n",
       "      <td>5.0</td>\n",
       "      <td>13.0</td>\n",
       "      <td>14.0</td>\n",
       "      <td>9.0</td>\n",
       "      <td>9.0</td>\n",
       "      <td>22.0</td>\n",
       "      <td>26.0</td>\n",
       "      <td>...</td>\n",
       "      <td>19.0</td>\n",
       "      <td>33.0</td>\n",
       "      <td>33.0</td>\n",
       "      <td>18.0</td>\n",
       "      <td>16.0</td>\n",
       "      <td>27.0</td>\n",
       "      <td>29.0</td>\n",
       "      <td>23.0</td>\n",
       "      <td>54.0</td>\n",
       "      <td>38.0</td>\n",
       "    </tr>\n",
       "    <tr>\n",
       "      <th>1</th>\n",
       "      <td>2PM_zh.wikipedia.org_all-access_spider</td>\n",
       "      <td>11.0</td>\n",
       "      <td>14.0</td>\n",
       "      <td>15.0</td>\n",
       "      <td>18.0</td>\n",
       "      <td>11.0</td>\n",
       "      <td>13.0</td>\n",
       "      <td>22.0</td>\n",
       "      <td>11.0</td>\n",
       "      <td>10.0</td>\n",
       "      <td>...</td>\n",
       "      <td>32.0</td>\n",
       "      <td>30.0</td>\n",
       "      <td>11.0</td>\n",
       "      <td>19.0</td>\n",
       "      <td>54.0</td>\n",
       "      <td>25.0</td>\n",
       "      <td>26.0</td>\n",
       "      <td>23.0</td>\n",
       "      <td>13.0</td>\n",
       "      <td>81.0</td>\n",
       "    </tr>\n",
       "    <tr>\n",
       "      <th>2</th>\n",
       "      <td>3C_zh.wikipedia.org_all-access_spider</td>\n",
       "      <td>1.0</td>\n",
       "      <td>0.0</td>\n",
       "      <td>1.0</td>\n",
       "      <td>1.0</td>\n",
       "      <td>0.0</td>\n",
       "      <td>4.0</td>\n",
       "      <td>0.0</td>\n",
       "      <td>3.0</td>\n",
       "      <td>4.0</td>\n",
       "      <td>...</td>\n",
       "      <td>6.0</td>\n",
       "      <td>6.0</td>\n",
       "      <td>7.0</td>\n",
       "      <td>2.0</td>\n",
       "      <td>4.0</td>\n",
       "      <td>7.0</td>\n",
       "      <td>3.0</td>\n",
       "      <td>4.0</td>\n",
       "      <td>7.0</td>\n",
       "      <td>6.0</td>\n",
       "    </tr>\n",
       "    <tr>\n",
       "      <th>3</th>\n",
       "      <td>4minute_zh.wikipedia.org_all-access_spider</td>\n",
       "      <td>35.0</td>\n",
       "      <td>13.0</td>\n",
       "      <td>10.0</td>\n",
       "      <td>94.0</td>\n",
       "      <td>4.0</td>\n",
       "      <td>26.0</td>\n",
       "      <td>14.0</td>\n",
       "      <td>9.0</td>\n",
       "      <td>11.0</td>\n",
       "      <td>...</td>\n",
       "      <td>7.0</td>\n",
       "      <td>19.0</td>\n",
       "      <td>19.0</td>\n",
       "      <td>9.0</td>\n",
       "      <td>6.0</td>\n",
       "      <td>16.0</td>\n",
       "      <td>19.0</td>\n",
       "      <td>30.0</td>\n",
       "      <td>38.0</td>\n",
       "      <td>4.0</td>\n",
       "    </tr>\n",
       "    <tr>\n",
       "      <th>4</th>\n",
       "      <td>52_Hz_I_Love_You_zh.wikipedia.org_all-access_s...</td>\n",
       "      <td>0.0</td>\n",
       "      <td>0.0</td>\n",
       "      <td>0.0</td>\n",
       "      <td>0.0</td>\n",
       "      <td>0.0</td>\n",
       "      <td>0.0</td>\n",
       "      <td>0.0</td>\n",
       "      <td>0.0</td>\n",
       "      <td>0.0</td>\n",
       "      <td>...</td>\n",
       "      <td>16.0</td>\n",
       "      <td>16.0</td>\n",
       "      <td>19.0</td>\n",
       "      <td>9.0</td>\n",
       "      <td>20.0</td>\n",
       "      <td>23.0</td>\n",
       "      <td>28.0</td>\n",
       "      <td>14.0</td>\n",
       "      <td>8.0</td>\n",
       "      <td>7.0</td>\n",
       "    </tr>\n",
       "  </tbody>\n",
       "</table>\n",
       "<p>5 rows × 804 columns</p>\n",
       "</div>"
      ],
      "text/plain": [
       "                                                Page  2015-07-01 00:00:00  \\\n",
       "0            2NE1_zh.wikipedia.org_all-access_spider                 18.0   \n",
       "1             2PM_zh.wikipedia.org_all-access_spider                 11.0   \n",
       "2              3C_zh.wikipedia.org_all-access_spider                  1.0   \n",
       "3         4minute_zh.wikipedia.org_all-access_spider                 35.0   \n",
       "4  52_Hz_I_Love_You_zh.wikipedia.org_all-access_s...                  0.0   \n",
       "\n",
       "   2015-07-02 00:00:00  2015-07-03 00:00:00  2015-07-04 00:00:00  \\\n",
       "0                 11.0                  5.0                 13.0   \n",
       "1                 14.0                 15.0                 18.0   \n",
       "2                  0.0                  1.0                  1.0   \n",
       "3                 13.0                 10.0                 94.0   \n",
       "4                  0.0                  0.0                  0.0   \n",
       "\n",
       "   2015-07-05 00:00:00  2015-07-06 00:00:00  2015-07-07 00:00:00  \\\n",
       "0                 14.0                  9.0                  9.0   \n",
       "1                 11.0                 13.0                 22.0   \n",
       "2                  0.0                  4.0                  0.0   \n",
       "3                  4.0                 26.0                 14.0   \n",
       "4                  0.0                  0.0                  0.0   \n",
       "\n",
       "   2015-07-08 00:00:00  2015-07-09 00:00:00  ...  2017-09-01 00:00:00  \\\n",
       "0                 22.0                 26.0  ...                 19.0   \n",
       "1                 11.0                 10.0  ...                 32.0   \n",
       "2                  3.0                  4.0  ...                  6.0   \n",
       "3                  9.0                 11.0  ...                  7.0   \n",
       "4                  0.0                  0.0  ...                 16.0   \n",
       "\n",
       "   2017-09-02 00:00:00  2017-09-03 00:00:00  2017-09-04 00:00:00  \\\n",
       "0                 33.0                 33.0                 18.0   \n",
       "1                 30.0                 11.0                 19.0   \n",
       "2                  6.0                  7.0                  2.0   \n",
       "3                 19.0                 19.0                  9.0   \n",
       "4                 16.0                 19.0                  9.0   \n",
       "\n",
       "   2017-09-05 00:00:00  2017-09-06 00:00:00  2017-09-07 00:00:00  \\\n",
       "0                 16.0                 27.0                 29.0   \n",
       "1                 54.0                 25.0                 26.0   \n",
       "2                  4.0                  7.0                  3.0   \n",
       "3                  6.0                 16.0                 19.0   \n",
       "4                 20.0                 23.0                 28.0   \n",
       "\n",
       "   2017-09-08 00:00:00  2017-09-09 00:00:00  2017-09-10 00:00:00  \n",
       "0                 23.0                 54.0                 38.0  \n",
       "1                 23.0                 13.0                 81.0  \n",
       "2                  4.0                  7.0                  6.0  \n",
       "3                 30.0                 38.0                  4.0  \n",
       "4                 14.0                  8.0                  7.0  \n",
       "\n",
       "[5 rows x 804 columns]"
      ]
     },
     "execution_count": 18,
     "metadata": {},
     "output_type": "execute_result"
    }
   ],
   "source": [
    "train_imputed.head()"
   ]
  },
  {
   "cell_type": "code",
   "execution_count": 19,
   "id": "daf9d34f",
   "metadata": {},
   "outputs": [
    {
     "name": "stdout",
     "output_type": "stream",
     "text": [
      "(145063, 804)\n"
     ]
    }
   ],
   "source": [
    "print(train_imputed.shape)"
   ]
  },
  {
   "cell_type": "markdown",
   "id": "1ca991ab",
   "metadata": {},
   "source": [
    "## save the imputed dataset"
   ]
  },
  {
   "cell_type": "code",
   "execution_count": 20,
   "id": "70df1a7b",
   "metadata": {},
   "outputs": [],
   "source": [
    "train_imputed.to_csv(os.path.join(datadir_pr, 'train_imputed.csv.zip'), index=False, compression='zip')"
   ]
  },
  {
   "cell_type": "markdown",
   "id": "26bc9158",
   "metadata": {},
   "source": [
    "# Conclusion"
   ]
  },
  {
   "cell_type": "markdown",
   "id": "64f9cd03",
   "metadata": {},
   "source": [
    "The data consists of train and key, which contains daily traffic and map of page with id, respectively.\n",
    "The train data contains 804 columns that consist of page and daily traffic for 803 days. The number of Wikipedia pages is 145k.\n",
    "\n",
    "We found that there are two kinds of missing data, which are\n",
    "- data is acutally missing\n",
    "- the page is not created yet\n",
    "\n",
    "For the former case, we interpolate the values to fill the missing ones, and for the latter, we simply fill it with zero value."
   ]
  }
 ],
 "metadata": {
  "kernelspec": {
   "display_name": "Python 3 (ipykernel)",
   "language": "python",
   "name": "python3"
  },
  "language_info": {
   "codemirror_mode": {
    "name": "ipython",
    "version": 3
   },
   "file_extension": ".py",
   "mimetype": "text/x-python",
   "name": "python",
   "nbconvert_exporter": "python",
   "pygments_lexer": "ipython3",
   "version": "3.8.3"
  },
  "toc-autonumbering": false
 },
 "nbformat": 4,
 "nbformat_minor": 5
}
