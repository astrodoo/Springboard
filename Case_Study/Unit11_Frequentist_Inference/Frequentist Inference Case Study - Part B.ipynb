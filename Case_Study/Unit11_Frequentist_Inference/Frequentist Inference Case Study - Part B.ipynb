{
 "cells": [
  {
   "cell_type": "markdown",
   "metadata": {},
   "source": [
    "# Frequentist Inference Case Study - Part B"
   ]
  },
  {
   "cell_type": "markdown",
   "metadata": {},
   "source": [
    "## Learning objectives"
   ]
  },
  {
   "cell_type": "markdown",
   "metadata": {},
   "source": [
    "Welcome to Part B of the Frequentist inference case study! The purpose of this case study is to help you apply the concepts associated with Frequentist inference in Python. In particular, you'll practice writing Python code to apply the following statistical concepts: \n",
    "* the _z_-statistic\n",
    "* the _t_-statistic\n",
    "* the difference and relationship between the two\n",
    "* the Central Limit Theorem, including its assumptions and consequences\n",
    "* how to estimate the population mean and standard deviation from a sample\n",
    "* the concept of a sampling distribution of a test statistic, particularly for the mean\n",
    "* how to combine these concepts to calculate a confidence interval"
   ]
  },
  {
   "cell_type": "markdown",
   "metadata": {},
   "source": [
    "In the previous notebook, we used only data from a known normal distribution. **You'll now tackle real data, rather than simulated data, and answer some relevant real-world business problems using the data.**"
   ]
  },
  {
   "cell_type": "markdown",
   "metadata": {},
   "source": [
    "## Hospital medical charges"
   ]
  },
  {
   "cell_type": "markdown",
   "metadata": {},
   "source": [
    "Imagine that a hospital has hired you as their data scientist. An administrator is working on the hospital's business operations plan and needs you to help them answer some business questions. \n",
    "\n",
    "In this assignment notebook, you're going to use frequentist statistical inference on a data sample to answer the questions:\n",
    "* has the hospital's revenue stream fallen below a key threshold?\n",
    "* are patients with insurance really charged different amounts than those without?\n",
    "\n",
    "Answering that last question with a frequentist approach makes some assumptions, and requires some knowledge, about the two groups."
   ]
  },
  {
   "cell_type": "markdown",
   "metadata": {},
   "source": [
    "We are going to use some data on medical charges obtained from [Kaggle](https://www.kaggle.com/easonlai/sample-insurance-claim-prediction-dataset). \n",
    "\n",
    "For the purposes of this exercise, assume the observations are the result of random sampling from our single hospital. Recall that in the previous assignment, we introduced the Central Limit Theorem (CLT), and its consequence that the distributions of sample statistics approach a normal distribution as $n$ increases. The amazing thing about this is that it applies to the sampling distributions of statistics that have been calculated from even highly non-normal distributions of data! Recall, also, that hypothesis testing is very much based on making inferences about such sample statistics. You're going to rely heavily on the CLT to apply frequentist (parametric) tests to answer the questions in this notebook."
   ]
  },
  {
   "cell_type": "code",
   "execution_count": 1,
   "metadata": {},
   "outputs": [],
   "source": [
    "import pandas as pd\n",
    "import numpy as np\n",
    "import matplotlib.pyplot as plt\n",
    "from scipy.stats import t\n",
    "from numpy.random import seed\n",
    "\n",
    "%matplotlib inline\n",
    "\n",
    "medical = pd.read_csv('data/insurance2.csv')"
   ]
  },
  {
   "cell_type": "code",
   "execution_count": 2,
   "metadata": {},
   "outputs": [
    {
     "data": {
      "text/plain": [
       "(1338, 8)"
      ]
     },
     "execution_count": 2,
     "metadata": {},
     "output_type": "execute_result"
    }
   ],
   "source": [
    "medical.shape"
   ]
  },
  {
   "cell_type": "code",
   "execution_count": 3,
   "metadata": {},
   "outputs": [
    {
     "data": {
      "text/html": [
       "<div>\n",
       "<style scoped>\n",
       "    .dataframe tbody tr th:only-of-type {\n",
       "        vertical-align: middle;\n",
       "    }\n",
       "\n",
       "    .dataframe tbody tr th {\n",
       "        vertical-align: top;\n",
       "    }\n",
       "\n",
       "    .dataframe thead th {\n",
       "        text-align: right;\n",
       "    }\n",
       "</style>\n",
       "<table border=\"1\" class=\"dataframe\">\n",
       "  <thead>\n",
       "    <tr style=\"text-align: right;\">\n",
       "      <th></th>\n",
       "      <th>age</th>\n",
       "      <th>sex</th>\n",
       "      <th>bmi</th>\n",
       "      <th>children</th>\n",
       "      <th>smoker</th>\n",
       "      <th>region</th>\n",
       "      <th>charges</th>\n",
       "      <th>insuranceclaim</th>\n",
       "    </tr>\n",
       "  </thead>\n",
       "  <tbody>\n",
       "    <tr>\n",
       "      <th>0</th>\n",
       "      <td>19</td>\n",
       "      <td>0</td>\n",
       "      <td>27.900</td>\n",
       "      <td>0</td>\n",
       "      <td>1</td>\n",
       "      <td>3</td>\n",
       "      <td>16884.92400</td>\n",
       "      <td>1</td>\n",
       "    </tr>\n",
       "    <tr>\n",
       "      <th>1</th>\n",
       "      <td>18</td>\n",
       "      <td>1</td>\n",
       "      <td>33.770</td>\n",
       "      <td>1</td>\n",
       "      <td>0</td>\n",
       "      <td>2</td>\n",
       "      <td>1725.55230</td>\n",
       "      <td>1</td>\n",
       "    </tr>\n",
       "    <tr>\n",
       "      <th>2</th>\n",
       "      <td>28</td>\n",
       "      <td>1</td>\n",
       "      <td>33.000</td>\n",
       "      <td>3</td>\n",
       "      <td>0</td>\n",
       "      <td>2</td>\n",
       "      <td>4449.46200</td>\n",
       "      <td>0</td>\n",
       "    </tr>\n",
       "    <tr>\n",
       "      <th>3</th>\n",
       "      <td>33</td>\n",
       "      <td>1</td>\n",
       "      <td>22.705</td>\n",
       "      <td>0</td>\n",
       "      <td>0</td>\n",
       "      <td>1</td>\n",
       "      <td>21984.47061</td>\n",
       "      <td>0</td>\n",
       "    </tr>\n",
       "    <tr>\n",
       "      <th>4</th>\n",
       "      <td>32</td>\n",
       "      <td>1</td>\n",
       "      <td>28.880</td>\n",
       "      <td>0</td>\n",
       "      <td>0</td>\n",
       "      <td>1</td>\n",
       "      <td>3866.85520</td>\n",
       "      <td>1</td>\n",
       "    </tr>\n",
       "  </tbody>\n",
       "</table>\n",
       "</div>"
      ],
      "text/plain": [
       "   age  sex     bmi  children  smoker  region      charges  insuranceclaim\n",
       "0   19    0  27.900         0       1       3  16884.92400               1\n",
       "1   18    1  33.770         1       0       2   1725.55230               1\n",
       "2   28    1  33.000         3       0       2   4449.46200               0\n",
       "3   33    1  22.705         0       0       1  21984.47061               0\n",
       "4   32    1  28.880         0       0       1   3866.85520               1"
      ]
     },
     "execution_count": 3,
     "metadata": {},
     "output_type": "execute_result"
    }
   ],
   "source": [
    "medical.head()"
   ]
  },
  {
   "cell_type": "markdown",
   "metadata": {},
   "source": [
    "__Q1:__ Plot the histogram of charges and calculate the mean and standard deviation. Comment on the appropriateness of these statistics for the data."
   ]
  },
  {
   "cell_type": "markdown",
   "metadata": {},
   "source": [
    "__A:__"
   ]
  },
  {
   "cell_type": "code",
   "execution_count": 4,
   "metadata": {},
   "outputs": [
    {
     "name": "stdout",
     "output_type": "stream",
     "text": [
      "mean of the sample: 13270.42 $\n",
      "median of the sample: 9382.03 $\n",
      "standard deviation of the sample: 12110.01 $\n"
     ]
    },
    {
     "data": {
      "text/plain": [
       "<matplotlib.legend.Legend at 0x7fe18a957670>"
      ]
     },
     "execution_count": 4,
     "metadata": {},
     "output_type": "execute_result"
    },
    {
     "data": {
      "image/png": "[encoded data removed]",
      "text/plain": [
       "<Figure size 800x600 with 1 Axes>"
      ]
     },
     "metadata": {},
     "output_type": "display_data"
    }
   ],
   "source": [
    "fig, ax = plt.subplots()\n",
    "\n",
    "ax.hist(medical.charges, bins=int(np.sqrt(medical.charges.count())))\n",
    "ax.set_xlabel('charges ($)')\n",
    "ax.set_ylabel('number counts')\n",
    "\n",
    "# calculate the mean, median, and standard deviation\n",
    "smp_mean   = np.mean(medical.charges)\n",
    "smp_median = np.median(medical.charges)\n",
    "smp_std    = np.std(medical.charges, ddof=1)  # w/ Bessel's correction\n",
    "\n",
    "print(\"mean of the sample: {:.2f} $\".format(smp_mean))\n",
    "print(\"median of the sample: {:.2f} $\".format(smp_median))\n",
    "print(\"standard deviation of the sample: {:.2f} $\".format(smp_std))\n",
    "\n",
    "ax.axvline(x=smp_mean, ls='-', lw=2, color='black', label='mean')\n",
    "ax.axvline(x=smp_mean+smp_std, ls='--', lw=2, color='black', label=r'mean$\\pm$std')\n",
    "ax.axvline(x=smp_mean-smp_std, ls='--', lw=2, color='black')\n",
    "\n",
    "ax.axvline(x=smp_median, ls='-', lw=2, color='magenta', label='median')\n",
    "\n",
    "ax.legend(loc='best', fontsize='small', frameon=False)"
   ]
  },
  {
   "cell_type": "markdown",
   "metadata": {},
   "source": [
    "> The distribtion of the hospital charges is highly skewed by right, so it is quite different from normal distribution. Therefore, the mean (and the range $\\pm$ standard deviation) seems not useful to descirbe the statistics of the distribution. Rather median would be better in this case. "
   ]
  },
  {
   "cell_type": "markdown",
   "metadata": {},
   "source": [
    "__Q2:__ The administrator is concerned that the actual average charge has fallen below 12,000, threatening the hospital's operational model. On the assumption that these data represent a random sample of charges, how would you justify that these data allow you to answer that question? And what would be the most appropriate frequentist test, of the ones discussed so far, to apply?"
   ]
  },
  {
   "cell_type": "markdown",
   "metadata": {},
   "source": [
    "__A:__\n",
    "\n",
    "> We can calculate the confidence interval (likely 95\\% confidence level or 99\\% if needs being more conservative) by using t-statistics (since we lack the population parameters). Then, we can check if the mean of 12,000 lies within the confidence interval. "
   ]
  },
  {
   "cell_type": "markdown",
   "metadata": {},
   "source": [
    "__Q3:__ Given the nature of the administrator's concern, what is the appropriate confidence interval in this case? A ***one-sided*** or ***two-sided*** interval? (Refresh your understanding of this concept on p. 399 of the *AoS*). Calculate the critical value and the relevant 95% confidence interval for the mean, and comment on whether the administrator should be concerned."
   ]
  },
  {
   "cell_type": "markdown",
   "metadata": {},
   "source": [
    "__A:__\n",
    "\n",
    "> A one-sided interval would be appropriate for this case as we only care if the mean has fallen below 12,000 or not. The t-statistics is as follows:"
   ]
  },
  {
   "cell_type": "code",
   "execution_count": 5,
   "metadata": {},
   "outputs": [
    {
     "name": "stdout",
     "output_type": "stream",
     "text": [
      "sample mean: $ 13270.422265\n",
      "sample standard deviation: $ 12110.011237\n",
      "sample standard error: $ 331.067454\n",
      "exact t-critical value: 1.65 \n",
      "margin of error (95%): $ 544.94\n",
      "lower bound of one-sided 95% Confidence Interval $ 12725.49\n"
     ]
    }
   ],
   "source": [
    "n_smp = medical.charges.count()\n",
    "smp_std_err = smp_std / np.sqrt(n_smp)  # standard deviation of the sample mean\n",
    "\n",
    "print(\"sample mean: $ %f\"%smp_mean)\n",
    "print(\"sample standard deviation: $ %f\"%smp_std)\n",
    "print(\"sample standard error: $ %f\"%smp_std_err)\n",
    "\n",
    "# calculate 95% margin of error -- 1-sided test\n",
    "confidence_level=0.95\n",
    "alpha = 1 - confidence_level\n",
    "n_sided = 1 # 1-sided test\n",
    "tail = 1 - alpha/n_sided\n",
    "\n",
    "t_crit = t.ppf(tail, n_smp-1)  # degree of freedom is sample size - 1\n",
    "print(\"exact t-critical value: {:.2f} \".format(t_crit))\n",
    "\n",
    "moe = t_crit * smp_std_err  # margin of error\n",
    "print(\"margin of error (95%): $ {:.2f}\".format(moe))\n",
    "\n",
    "lower_conf_bound = smp_mean - moe # lower confidence bound\n",
    "print(\"lower bound of one-sided 95% Confidence Interval $ {:.2f}\".format(lower_conf_bound))"
   ]
  },
  {
   "cell_type": "markdown",
   "metadata": {},
   "source": [
    "> The t-static shows that the lower bound of the mean value would be 12,725 dollars, which is higher than 12,000 dollars. Therefore, we can assure that the administrator should not be concerned. "
   ]
  },
  {
   "cell_type": "markdown",
   "metadata": {},
   "source": [
    "The administrator then wants to know whether people with insurance really are charged a different amount to those without.\n",
    "\n",
    "__Q4:__ State the null and alternative hypothesis here. Use the _t_-test for the difference between means, where the pooled standard deviation of the two groups is given by:\n",
    "\\begin{equation}\n",
    "s_p = \\sqrt{\\frac{(n_0 - 1)s^2_0 + (n_1 - 1)s^2_1}{n_0 + n_1 - 2}}\n",
    "\\end{equation}\n",
    "\n",
    "and the *t*-test statistic is then given by:\n",
    "\n",
    "\\begin{equation}\n",
    "t = \\frac{\\bar{x}_0 - \\bar{x}_1}{s_p \\sqrt{1/n_0 + 1/n_1}}.\n",
    "\\end{equation}\n",
    "\n",
    "(If you need some reminding of the general definition of ***t-statistic***, check out the definition on p. 404 of *AoS*). \n",
    "\n",
    "What assumption about the variances of the two groups are we making here?"
   ]
  },
  {
   "cell_type": "markdown",
   "metadata": {},
   "source": [
    "__A:__\n",
    "\n",
    ">Null       H0: people with insurance are charged the **same amount** to those without. </br>\n",
    "Alernative H1: people with insurance are charged the **different amount** to those without."
   ]
  },
  {
   "cell_type": "markdown",
   "metadata": {},
   "source": [
    "__Q5:__ Perform this hypothesis test both manually, using the above formulae, and then using the appropriate function from [scipy.stats](https://docs.scipy.org/doc/scipy/reference/stats.html#statistical-tests) (hint, you're looking for a function to perform a _t_-test on two independent samples). For the manual approach, calculate the value of the test statistic and then its probability (the p-value). Verify you get the same results from both."
   ]
  },
  {
   "cell_type": "markdown",
   "metadata": {},
   "source": [
    "__A:__ "
   ]
  },
  {
   "cell_type": "code",
   "execution_count": 6,
   "metadata": {},
   "outputs": [
    {
     "name": "stdout",
     "output_type": "stream",
     "text": [
      "===== Manual Approach =====\n",
      "t test statistics: -11.89\n",
      "p-value: 4.46e-31\n"
     ]
    }
   ],
   "source": [
    "''' Calculate the value of the test statistics by manual approach '''\n",
    "# separate two groups with and without insurance\n",
    "noins_charge = medical.loc[medical.insuranceclaim==0, 'charges']  # without insurance\n",
    "ins_charge   = medical.loc[medical.insuranceclaim==1, 'charges']  # with insurance\n",
    "\n",
    "# mean of two groups\n",
    "noins_mean = np.mean(noins_charge)\n",
    "ins_mean   = np.mean(ins_charge)\n",
    "\n",
    "# standard deviations of two groups\n",
    "noins_std = np.std(noins_charge, ddof=1)  # w/ Bessel's correction\n",
    "ins_std   = np.std(ins_charge, ddof=1)    # w/ Bessel's correction\n",
    "\n",
    "# number counts of two groups\n",
    "noins_n = noins_charge.count()\n",
    "ins_n   = ins_charge.count()\n",
    "\n",
    "# pooled standard deviation of the two groups\n",
    "def calc_sp(n0,n1,s0,s1):\n",
    "    ''' \n",
    "        n0/n1: number counts of the two groups\n",
    "        s0/s1: standard deviation of the two groups\n",
    "    '''\n",
    "    sp = np.sqrt( ((n0-1)*s0*s0 + (n1-1)*s1*s1) / (n0+n1-2) )\n",
    "    return sp\n",
    "\n",
    "sp = calc_sp(noins_n, ins_n, noins_std, ins_std)\n",
    "\n",
    "# t-test of thw two groups\n",
    "def calc_t(x0,x1,n0,n1,sp):\n",
    "    '''\n",
    "        x0/x1: mean values of the two groups\n",
    "        n0/n1: number counts of the two groups\n",
    "        sp:    the pooled standard deviation \n",
    "    '''\n",
    "    t = (x0-x1) / sp / np.sqrt(1/n0 + 1/n1)\n",
    "    return t\n",
    "\n",
    "t_test = calc_t(noins_mean, ins_mean, noins_n, ins_n, sp)\n",
    "p_val  = t.cdf(t_test, df=noins_n+ins_n-2) * 2 # p-value: note that the p-value is multiplied by 2 as it is two-sided\n",
    "\n",
    "print(\"===== Manual Approach =====\")\n",
    "print(\"t test statistics: {:.2f}\".format(t_test))\n",
    "print(\"p-value: {:.3g}\".format(p_val))"
   ]
  },
  {
   "cell_type": "code",
   "execution_count": 7,
   "metadata": {},
   "outputs": [
    {
     "name": "stdout",
     "output_type": "stream",
     "text": [
      "===== Scipy stats =====\n",
      "t_test results: Ttest_indResult(statistic=-11.893299030876712, pvalue=4.461230231620717e-31)\n",
      "t test statistics: -11.89\n",
      "p-value: 4.46e-31\n"
     ]
    }
   ],
   "source": [
    "''' Calculate the value of the test statistics by scipy.stats '''\n",
    "from scipy.stats import ttest_ind as ttest\n",
    "\n",
    "t_test_scp = ttest(noins_charge, ins_charge)\n",
    "\n",
    "print(\"===== Scipy stats =====\")\n",
    "print(\"t_test results:\", t_test_scp)\n",
    "print(\"t test statistics: {:.2f}\".format(t_test_scp[0]))\n",
    "print(\"p-value: {:.3g}\".format(t_test_scp[1]))\n"
   ]
  },
  {
   "cell_type": "markdown",
   "metadata": {},
   "source": [
    "> The results from two apporaches are consistent with each other. "
   ]
  },
  {
   "cell_type": "code",
   "execution_count": 8,
   "metadata": {},
   "outputs": [
    {
     "data": {
      "image/png": "[encoded data removed]",
      "text/plain": [
       "<Figure size 800x600 with 1 Axes>"
      ]
     },
     "metadata": {},
     "output_type": "display_data"
    }
   ],
   "source": [
    "''' final check for the histogram of two groups '''\n",
    "\n",
    "fig, ax = plt.subplots()\n",
    "\n",
    "ax.hist(noins_charge, histtype='step', bins=int(np.sqrt(noins_n)), label='w/o Insurance')\n",
    "ax.hist(ins_charge, histtype='step', bins=int(np.sqrt(ins_n)), label='w/ Insurance')\n",
    "\n",
    "ax.axvline(x=noins_mean, ls='--', color='C0')\n",
    "ax.axvspan(noins_mean-noins_std, noins_mean+noins_std, alpha=0.2, color='C0')  # shade for +/- 1 sigma\n",
    "ax.axvline(x=ins_mean, ls='--', color='C1')\n",
    "ax.axvspan(ins_mean-ins_std, ins_mean+ins_std, alpha=0.2, color='C1') # shade for +/- 1 sigma\n",
    "\n",
    "ax.legend(loc='best', fontsize='small')\n",
    "\n",
    "ax.set_xlabel('Charges ($)')\n",
    "ax.set_ylabel('Number counts');"
   ]
  },
  {
   "cell_type": "code",
   "execution_count": null,
   "metadata": {},
   "outputs": [],
   "source": []
  },
  {
   "cell_type": "markdown",
   "metadata": {},
   "source": [
    "Congratulations! Hopefully you got the exact same numerical results. This shows that you correctly calculated the numbers by hand. Secondly, you used the correct function and saw that it's much easier to use. All you need to do is pass your data to it."
   ]
  },
  {
   "cell_type": "markdown",
   "metadata": {},
   "source": [
    "__Q6:__ Conceptual question: look through the documentation for statistical test functions in scipy.stats. You'll see the above _t_-test for a sample, but can you see an equivalent one for performing a *z*-test from a sample? Comment on your answer."
   ]
  },
  {
   "cell_type": "markdown",
   "metadata": {},
   "source": [
    "__A:__\n",
    "\n",
    "> Since z-statistics requires to infer a full population parameters rather than the statistics of samples, there is no equivalent test to t-test. "
   ]
  },
  {
   "cell_type": "markdown",
   "metadata": {},
   "source": [
    "## Learning outcomes"
   ]
  },
  {
   "cell_type": "markdown",
   "metadata": {},
   "source": [
    "Having completed this project notebook, you now have good hands-on experience:\n",
    "* using the central limit theorem to help you apply frequentist techniques to answer questions that pertain to very non-normally distributed data from the real world\n",
    "* performing inference using such data to answer business questions\n",
    "* forming a hypothesis and framing the null and alternative hypotheses\n",
    "* testing this using a _t_-test"
   ]
  }
 ],
 "metadata": {
  "kernelspec": {
   "display_name": "Python 3 (ipykernel)",
   "language": "python",
   "name": "python3"
  },
  "language_info": {
   "codemirror_mode": {
    "name": "ipython",
    "version": 3
   },
   "file_extension": ".py",
   "mimetype": "text/x-python",
   "name": "python",
   "nbconvert_exporter": "python",
   "pygments_lexer": "ipython3",
   "version": "3.8.3"
  }
 },
 "nbformat": 4,
 "nbformat_minor": 4
}
