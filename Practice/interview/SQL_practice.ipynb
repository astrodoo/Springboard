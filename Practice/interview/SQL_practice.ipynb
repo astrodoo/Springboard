{
 "cells": [
  {
   "cell_type": "markdown",
   "id": "e2a38619",
   "metadata": {},
   "source": [
    "- **Distinct**: select all the unique values from a column"
   ]
  },
  {
   "cell_type": "code",
   "execution_count": null,
   "id": "e4cbf49b",
   "metadata": {},
   "outputs": [],
   "source": [
    "select distinct language from flims;"
   ]
  },
  {
   "cell_type": "markdown",
   "id": "1e106cce",
   "metadata": {},
   "source": [
    "- **count**: count the number of objects"
   ]
  },
  {
   "cell_type": "code",
   "execution_count": null,
   "id": "78bc0f48",
   "metadata": {},
   "outputs": [],
   "source": [
    "select count(*) from people;\n",
    "\n",
    "select count(distinct birthdate) from people;"
   ]
  },
  {
   "cell_type": "markdown",
   "id": "84de76e0",
   "metadata": {},
   "source": [
    "- **round**: (float number, number of decimal point)"
   ]
  },
  {
   "cell_type": "code",
   "execution_count": null,
   "id": "a478c218",
   "metadata": {},
   "outputs": [],
   "source": [
    "round(3.141592, 2) -> 3.14"
   ]
  },
  {
   "cell_type": "markdown",
   "id": "2cafc473",
   "metadata": {
    "tags": []
   },
   "source": [
    "# Filterling\n",
    "\n",
    "In SQL, the **WHERE** keyword allows you to filter based on both text and numeric values in a table. There are a few different comparison operators you can use:\n",
    "- = equal\n",
    "- <>  / != not equal\n",
    "- < less than\n",
    "- \\> greater than\n",
    "- <= less than or equal to\n",
    "- \\>= greater than or equal to"
   ]
  },
  {
   "cell_type": "markdown",
   "id": "066f8470",
   "metadata": {},
   "source": [
    "- **between**: between is inclusive"
   ]
  },
  {
   "cell_type": "code",
   "execution_count": null,
   "id": "165ebd7a",
   "metadata": {},
   "outputs": [],
   "source": [
    "select title from films\n",
    "    where release_year\n",
    "    between 1994 and 2000;"
   ]
  },
  {
   "cell_type": "markdown",
   "id": "987680d7",
   "metadata": {},
   "source": [
    "- **in** operator"
   ]
  },
  {
   "cell_type": "code",
   "execution_count": null,
   "id": "5c39c6ee",
   "metadata": {},
   "outputs": [],
   "source": [
    "select name from kids\n",
    "    where age in (2, 4, 6, 8, 10);"
   ]
  },
  {
   "cell_type": "markdown",
   "id": "8a409071",
   "metadata": {},
   "source": [
    "- **Null** operator"
   ]
  },
  {
   "cell_type": "code",
   "execution_count": null,
   "id": "e9f29be8",
   "metadata": {},
   "outputs": [],
   "source": [
    "select name from kids\n",
    "    where age is null;"
   ]
  },
  {
   "cell_type": "markdown",
   "id": "d9f403e6",
   "metadata": {},
   "source": [
    "- **like** and **not like**\n",
    "    - search for a pattern in a column\n",
    "    - % wildcard will match zero, one, or many characters in text.\n",
    "    - _ wildcard will match a single character."
   ]
  },
  {
   "cell_type": "code",
   "execution_count": null,
   "id": "2675663b",
   "metadata": {},
   "outputs": [],
   "source": [
    "select name from companies\n",
    "    where name like 'Data%';\n",
    "    \n",
    "select name from companies\n",
    "    where name like 'DataC_mp';"
   ]
  },
  {
   "cell_type": "markdown",
   "id": "35595afc",
   "metadata": {},
   "source": [
    "- aggregate functions\n",
    "    - **avg(), max(), min(), sum()**"
   ]
  },
  {
   "cell_type": "code",
   "execution_count": null,
   "id": "2f7f4fdf",
   "metadata": {},
   "outputs": [],
   "source": [
    "select avg(budget) from films;\n",
    "\n",
    "select sum(budget) from films;"
   ]
  },
  {
   "cell_type": "markdown",
   "id": "011b300a",
   "metadata": {},
   "source": [
    "- arithmetic: "
   ]
  },
  {
   "cell_type": "code",
   "execution_count": null,
   "id": "bbf37bfe",
   "metadata": {},
   "outputs": [],
   "source": [
    "select title, (gross - budget) as net_profit from films;"
   ]
  },
  {
   "cell_type": "markdown",
   "id": "36fac629",
   "metadata": {},
   "source": [
    "- **order by**\n",
    "    - **DESC** keyword: descending order\n",
    "    - **ORDER BY** can also be used to sort on multiple columns. It will sort by the first column specified, then sort by the next, then the next, and so on.\n",
    "    - Make sure to always put the ORDER BY clause at the end of your query. You can't sort values that you haven't calculated yet!"
   ]
  },
  {
   "cell_type": "code",
   "execution_count": null,
   "id": "dd8eb403",
   "metadata": {},
   "outputs": [],
   "source": [
    "select title from films\n",
    "    order by release_year DESC;"
   ]
  },
  {
   "cell_type": "markdown",
   "id": "0c6fa586",
   "metadata": {},
   "source": [
    "- **group by**\n",
    "    - **GROUP BY** is used with aggregate functions like **COUNT()** or **MAX()**.\n",
    "    - Note that **GROUP BY always goes after the FROM clause!**"
   ]
  },
  {
   "cell_type": "code",
   "execution_count": null,
   "id": "322a4aee",
   "metadata": {},
   "outputs": [],
   "source": [
    "select sex, count(*) from employees\n",
    "    group by sex;"
   ]
  },
  {
   "cell_type": "markdown",
   "id": "1c912548",
   "metadata": {},
   "source": [
    "- **having**\n",
    "    - In SQL, **aggregate functions can't be used in WHERE clauses.**\n",
    "    - if you want to filter based on the result of an aggregate function, you need another way! That's where the **HAVING clause** comes in. "
   ]
  },
  {
   "cell_type": "code",
   "execution_count": null,
   "id": "6a9e681c",
   "metadata": {},
   "outputs": [],
   "source": [
    "select release_year from films\n",
    "    group by release_year\n",
    "    having count(title) > 10;"
   ]
  },
  {
   "cell_type": "markdown",
   "id": "2bdf2589",
   "metadata": {},
   "source": [
    "- **limit**\n",
    "    - limit the number of rows returned"
   ]
  },
  {
   "cell_type": "code",
   "execution_count": null,
   "id": "2ad3f695",
   "metadata": {},
   "outputs": [],
   "source": [
    "select country, avg(budget) as avg_budget, avg(gross) as avg_gross from films\n",
    "    group by country\n",
    "    having count(title) > 10\n",
    "    order by country\n",
    "    limit 5;"
   ]
  },
  {
   "cell_type": "markdown",
   "id": "404ea858",
   "metadata": {},
   "source": [
    "# Joining\n",
    "- inner join\n",
    "- full (outer) join\n",
    "- left/right (outer) join - fetches all data from the left/right table with matching data from right/left, if preset\n",
    "- cross join\n",
    "    - all possible pairs"
   ]
  },
  {
   "cell_type": "markdown",
   "id": "3576a533",
   "metadata": {},
   "source": [
    "## inner join"
   ]
  },
  {
   "cell_type": "code",
   "execution_count": null,
   "id": "9fb4a572",
   "metadata": {},
   "outputs": [],
   "source": [
    "select p1.country, p1.continent, prime_minister, president \n",
    "    from prime_ministers as p1\n",
    "    inner join presidents as p2\n",
    "    on p1.country = p2.country"
   ]
  },
  {
   "cell_type": "code",
   "execution_count": null,
   "id": "4a0ba63a",
   "metadata": {},
   "outputs": [],
   "source": [
    "## inner join w/ using\n",
    "\n",
    "select left.id as L_id, left.val as L_val, right.val as R_val\n",
    "    from left\n",
    "    inner join right\n",
    "    using (id);"
   ]
  },
  {
   "cell_type": "markdown",
   "id": "a29371fd",
   "metadata": {},
   "source": [
    "## self join"
   ]
  },
  {
   "cell_type": "code",
   "execution_count": null,
   "id": "39528f56",
   "metadata": {},
   "outputs": [],
   "source": [
    "select p1.country_code, p1.size as size2010, p2.size as size2015\n",
    "    ((p2.size - p1.size)/p1.size * 100.) as growth_perc\n",
    "    from populations as p1\n",
    "    inner join populations as p2   # join to itself\n",
    "    on p1.country_code = p2.country_code\n",
    "        and p1.year = p2.year - 5"
   ]
  },
  {
   "cell_type": "markdown",
   "id": "374dd7bf",
   "metadata": {},
   "source": [
    "## cross join"
   ]
  },
  {
   "cell_type": "code",
   "execution_count": null,
   "id": "5d8fb019",
   "metadata": {},
   "outputs": [],
   "source": [
    "select primie_minister, president \n",
    "    from prime_minister as p1\n",
    "    cross join president as p2\n",
    "    where p1.continent in ('North America', 'Oceania');"
   ]
  },
  {
   "cell_type": "markdown",
   "id": "26e59167",
   "metadata": {},
   "source": [
    "# Set Theory Venn Diagrams"
   ]
  },
  {
   "cell_type": "markdown",
   "id": "46076dc9",
   "metadata": {},
   "source": [
    "## Union\n",
    "- can also be used to determine all occurrences of a field across multiple tables.\n",
    "- **union all**: includes duplicates"
   ]
  },
  {
   "cell_type": "code",
   "execution_count": null,
   "id": "adffbf97",
   "metadata": {},
   "outputs": [],
   "source": [
    "select prime_minister as leader, country\n",
    "    from prime_ministers\n",
    "union\n",
    "select monarch, country\n",
    "    from monarchs\n",
    "order by country;"
   ]
  },
  {
   "cell_type": "markdown",
   "id": "c4ebbf49",
   "metadata": {},
   "source": [
    "## intersect"
   ]
  },
  {
   "cell_type": "code",
   "execution_count": null,
   "id": "ba599721",
   "metadata": {},
   "outputs": [],
   "source": [
    "select country from prime_ministers\n",
    "intersect\n",
    "select country from presidents;"
   ]
  },
  {
   "cell_type": "markdown",
   "id": "5b6ae55f",
   "metadata": {},
   "source": [
    "## except"
   ]
  },
  {
   "cell_type": "code",
   "execution_count": null,
   "id": "b74992da",
   "metadata": {},
   "outputs": [],
   "source": [
    "select monarch, country from monarchs\n",
    "except\n",
    "select prime_minister, country from prime_ministers;"
   ]
  },
  {
   "cell_type": "markdown",
   "id": "c94b54ce",
   "metadata": {},
   "source": [
    "## Semi-join (an intro to subqueries)"
   ]
  },
  {
   "cell_type": "code",
   "execution_count": null,
   "id": "0c217f87",
   "metadata": {},
   "outputs": [],
   "source": [
    "select president, country, continent from presidents\n",
    "    where country in \n",
    "        (select name from states\n",
    "            where indep_year < 1800);"
   ]
  },
  {
   "cell_type": "markdown",
   "id": "9cf61aec",
   "metadata": {},
   "source": [
    "## Anti-join "
   ]
  },
  {
   "cell_type": "code",
   "execution_count": null,
   "id": "f8b73f61",
   "metadata": {},
   "outputs": [],
   "source": [
    "select president, country, continent from presidents\n",
    "    where continent like '%America'\n",
    "        and country not in \n",
    "            (select name from states\n",
    "                where indep_year < 1800);"
   ]
  },
  {
   "cell_type": "code",
   "execution_count": null,
   "id": "a35229e6",
   "metadata": {},
   "outputs": [],
   "source": [
    "## Identify the country codes that are included in either economies or currencies but not in populations.\n",
    "## Use that result to determine the names of cities in the countries that match the specification in the previous instruction.\n",
    "\n",
    "select name from cities as c1\n",
    "    where c1.country_code in \n",
    "        (select e.code from economies as e\n",
    "         union    # get all additional (unique) values of the currencies table\n",
    "         select c2.code from currencies as c2\n",
    "         except\n",
    "         select p.country_code from populations as p);"
   ]
  },
  {
   "cell_type": "markdown",
   "id": "bb597d1d",
   "metadata": {},
   "source": [
    "# Subqueries\n",
    "\n",
    "- can be in any part of a query:\n",
    "  **select, from where, group by**\n",
    "- can return\n",
    "\t- scalar quantities\n",
    "\t- a list\n",
    "\t- a table\n",
    "- why?\n",
    "\t- comparing groups to summarized value\n",
    "\t- reshaping data\n",
    "\t- combining data that cannot be joined"
   ]
  },
  {
   "cell_type": "markdown",
   "id": "0c924d06",
   "metadata": {},
   "source": [
    "## subqueries inside **where/select** clauses"
   ]
  },
  {
   "cell_type": "code",
   "execution_count": null,
   "id": "9f29bba1",
   "metadata": {},
   "outputs": [],
   "source": [
    "select name, fert_rate from states\n",
    "    where continent = 'Asia'\n",
    "        and fert_rate < \n",
    "            (select avg(fert_rate) from states);"
   ]
  },
  {
   "cell_type": "code",
   "execution_count": null,
   "id": "6488ed2b",
   "metadata": {},
   "outputs": [],
   "source": [
    "select distinct continent, \n",
    "    (select count(*) from states \n",
    "        where prime_minister.continent = states.continent) as countries_num\n",
    "    from prime_ministers;"
   ]
  },
  {
   "cell_type": "code",
   "execution_count": null,
   "id": "630b2691",
   "metadata": {},
   "outputs": [],
   "source": [
    "/*\n",
    "SELECT countries.name AS country, COUNT(*) AS cities_num\n",
    "    FROM cities\n",
    "    INNER JOIN countries\n",
    "    ON countries.code = cities.country_code\n",
    "    GROUP BY country\n",
    "    ORDER BY cities_num DESC, country\n",
    "    LIMIT 9;\n",
    "*/\n",
    "\n",
    "select countries.name as country,\n",
    "    (select count(*) from cities\n",
    "        where countries.code = cities.country_code) as cities_num\n",
    "    from countries\n",
    "    order by cities_num desc, country\n",
    "    limit 9;"
   ]
  },
  {
   "cell_type": "markdown",
   "id": "c76e8d78",
   "metadata": {},
   "source": [
    "## subquery filtering list with **in**"
   ]
  },
  {
   "cell_type": "code",
   "execution_count": null,
   "id": "d34b9851",
   "metadata": {},
   "outputs": [],
   "source": [
    "select team_long_name, team_short_name as abbr\n",
    "    from team\n",
    "    where team_api_id in \n",
    "        (select hometeam_id from match\n",
    "            where country_id = 15722);"
   ]
  },
  {
   "cell_type": "markdown",
   "id": "ae6db25b",
   "metadata": {},
   "source": [
    "## Subquery inside the **From** clause\n",
    "\n",
    "- Restructure and transform your data\n",
    "\t- transforming data from long to wide before selecting\n",
    "\t- pre-filtering data\n",
    "- Calculating aggregates of aggregates e.g.) Which 3 teams has the highest average of home goals scored?\n",
    "        1. calculate the avg for each team\n",
    "        2. get the 3 highest of the avg values\n",
    "- you can create multiple subqueries in one **from** statement\n",
    "\t- alias them / join them !!\n",
    "- you can join a subquery to a table in **from**\n",
    "\t- include a joining columns in both tables !"
   ]
  },
  {
   "cell_type": "code",
   "execution_count": null,
   "id": "c528ce21",
   "metadata": {},
   "outputs": [],
   "source": [
    "select team, home_avg\n",
    "from (select t.team_long_name as team, avg(m.home_goal) as home_avg\n",
    "      from match as m\n",
    "      left join team as t\n",
    "      on m.hometeam_id = t.team_api_id\n",
    "      where season = '2011/2012'\n",
    "      group by team) as subquery\n",
    "order by home_avg desc\n",
    "limit 3;"
   ]
  },
  {
   "cell_type": "code",
   "execution_count": null,
   "id": "e1dbf44e",
   "metadata": {},
   "outputs": [],
   "source": [
    "select distinct monarchs.continent, subquery.max_perc\n",
    "    from monarchs,\n",
    "        (select continent, max(women_parli_perc) as max_perc\n",
    "            from states\n",
    "            group by continent)\n",
    "            as subquery\n",
    "    where monarchs.continent = subquery.continent\n",
    "    order by continent;"
   ]
  },
  {
   "cell_type": "code",
   "execution_count": null,
   "id": "e68cc863",
   "metadata": {},
   "outputs": [],
   "source": [
    "SELECT name, continent, inflation_rate\n",
    "    FROM countries\n",
    "    INNER JOIN economies\n",
    "    on countries.code = economies.code\n",
    "        WHERE year = 2015\n",
    "        and inflation_rate in (\n",
    "            SELECT MAX(inflation_rate) AS max_inf\n",
    "                FROM (\n",
    "                     SELECT name, continent, inflation_rate\n",
    "                         FROM countries\n",
    "                         INNER JOIN economies\n",
    "                             on countries.code = economies.code\n",
    "                             WHERE year = 2015) AS subquery\n",
    "                         GROUP BY continent);"
   ]
  },
  {
   "cell_type": "markdown",
   "id": "601673eb",
   "metadata": {},
   "source": [
    "## subquery in **select** clause\n",
    "- returns a ***single value***\n",
    "\t- include aggregate values to compare to individual values\n",
    "- used in mathematical calculations\n",
    "\t- deviation from the average"
   ]
  },
  {
   "cell_type": "code",
   "execution_count": null,
   "id": "64387cc9",
   "metadata": {},
   "outputs": [],
   "source": [
    "select season, count(id) as matches, \n",
    "    (select count(id) from match) as total_matches\n",
    "    from match\n",
    "    group by season;"
   ]
  },
  {
   "cell_type": "code",
   "execution_count": null,
   "id": "24e52bf7",
   "metadata": {},
   "outputs": [],
   "source": [
    "## calculate the difference from the average value ##\n",
    "\n",
    "select date, (home_goal + away_goal) as goals,\n",
    "    (home_goal + away_goal) - \n",
    "        (select avg(home_goal + away_goal) \n",
    "         from match\n",
    "         where season = '2011/2012') as diff\n",
    "from match\n",
    "where season = '2011/2012';"
   ]
  },
  {
   "cell_type": "markdown",
   "id": "0d8eda9c",
   "metadata": {},
   "source": [
    "## Correlated subquery\n",
    "- Uses values from the outer query to generate a result\n",
    "- re-run for every row generated in the final data set\n",
    "- used for advanced joining, filtering, and evaluating data"
   ]
  },
  {
   "cell_type": "code",
   "execution_count": null,
   "id": "3a9d7ca1",
   "metadata": {},
   "outputs": [],
   "source": [
    "# simple query: what is the average number of goals scored in each country?\n",
    "\n",
    "select c.name as country, avg(m.home_goal + m.away_goal) as avg_goals\n",
    "    from country as c\n",
    "    left join match as m\n",
    "        on c.id = m.country_id\n",
    "    group by country;"
   ]
  },
  {
   "cell_type": "code",
   "execution_count": null,
   "id": "2d99266c",
   "metadata": {},
   "outputs": [],
   "source": [
    "## correlated query: what is the average number of goals scored in each country?\n",
    "\n",
    "select c.name as country,\n",
    "    (select avg(home_goal + away_goal)\n",
    "     from match as m\n",
    "     where m.country_id = c.id) as avg_goals # match inner query to outer query\n",
    "from country as c\n",
    "group by country;"
   ]
  },
  {
   "cell_type": "markdown",
   "id": "281f0371",
   "metadata": {},
   "source": [
    "# Nested subquries\n",
    "- subquery inside another subquery\n",
    "- Inner subquery using **EXTRACT**"
   ]
  },
  {
   "cell_type": "code",
   "execution_count": null,
   "id": "4c7db241",
   "metadata": {},
   "outputs": [],
   "source": [
    "select\n",
    "    extract(MONTH from date) as month,\n",
    "    sum(home_goal + away_goal) as goals\n",
    "from match\n",
    "group by month;"
   ]
  },
  {
   "cell_type": "code",
   "execution_count": null,
   "id": "7fbdd304",
   "metadata": {},
   "outputs": [],
   "source": [
    "select\n",
    "    extract(MONTH from date) as month,\n",
    "    sum(m.home_goal + m.away_goal) as total_goals,\n",
    "    sum(m.home_goal + m.away_goal) - \n",
    "        (select avg(goals)     # average total goals by month\n",
    "         from (select\n",
    "                  extract(MONTH from date) as month,\n",
    "                  sum(home_goal + away_goal) as goals\n",
    "               from match\n",
    "               group by month) as s) as diff\n",
    "from match as m\n",
    "group by month;"
   ]
  },
  {
   "cell_type": "markdown",
   "id": "8ff9a905",
   "metadata": {},
   "source": [
    "# Case when and then\n",
    "- categorizing data\n",
    "- filtering data\n",
    "- aggregating data"
   ]
  },
  {
   "cell_type": "code",
   "execution_count": null,
   "id": "c40d9bb7",
   "metadata": {},
   "outputs": [],
   "source": [
    "select name, continent, indep_year,\n",
    "    case when indep_year < 1900 then 'before 1900'\n",
    "         when indep_year <= 1930 then 'between 1900 and 1930'\n",
    "         else 'after 1930'\n",
    "    end as indep_year_group\n",
    "    from states\n",
    "    order by indep_year_group;"
   ]
  },
  {
   "cell_type": "code",
   "execution_count": null,
   "id": "dad1a7f5",
   "metadata": {},
   "outputs": [],
   "source": [
    "# exclude null values\n",
    "\n",
    "select date, season,\n",
    "    case when hometeam_id = 8455 and home_goal>away_goal then 'Chelsea home win!'\n",
    "         when awayteam_id = 8455 and home_goal < away_goal then 'Chelsea away win!'\n",
    "    end as outcome\n",
    "    from match\n",
    "    where case when hometeam_id = 8455 and home_goal>away_goal then 'Chelsea home win!'\n",
    "               when awayteam_id = 8455 and home_goal < away_goal then 'Chelsea away win!'\n",
    "          end is not null;"
   ]
  },
  {
   "cell_type": "markdown",
   "id": "ad44fde9",
   "metadata": {},
   "source": [
    "## Case when w/ **count**"
   ]
  },
  {
   "cell_type": "code",
   "execution_count": null,
   "id": "af0c1304",
   "metadata": {},
   "outputs": [],
   "source": [
    "select season, \n",
    "    count(case when hometeam_id = 8650 \n",
    "                and home_goal > away_goal then id \n",
    "          end) as home_wins\n",
    "    from match\n",
    "    group by season;"
   ]
  },
  {
   "cell_type": "markdown",
   "id": "60b9fecd",
   "metadata": {},
   "source": [
    "## Case when w/ **sum**"
   ]
  },
  {
   "cell_type": "code",
   "execution_count": null,
   "id": "84c3daf4",
   "metadata": {},
   "outputs": [],
   "source": [
    "select season,\n",
    "    sum(case when hometeam_id = 8650 then home_goal end) as home_goals,\n",
    "    sum(case when awayteam_id = 8650 then away_goal end) as away_goals\n",
    "from match\n",
    "group by season;"
   ]
  },
  {
   "cell_type": "markdown",
   "id": "21dca8a5",
   "metadata": {},
   "source": [
    "## Case when w/ **avg**"
   ]
  },
  {
   "cell_type": "code",
   "execution_count": null,
   "id": "73a80e52",
   "metadata": {},
   "outputs": [],
   "source": [
    "AVG(CASE WHEN condition_is_met THEN 1\n",
    "         WHEN condition_is_not_met THEN 0 END)"
   ]
  },
  {
   "cell_type": "markdown",
   "id": "ea154474",
   "metadata": {},
   "source": [
    "# into clause\n",
    "- save the result of the query"
   ]
  },
  {
   "cell_type": "code",
   "execution_count": null,
   "id": "b7ada570",
   "metadata": {},
   "outputs": [],
   "source": [
    "select country_code, size,\n",
    "    case when size > 500000 then 'large'\n",
    "         when size > 10000  then 'medium'\n",
    "         else 'small'\n",
    "    end as popsize_group\n",
    "    into pop_plus   # into table\n",
    "    from populations\n",
    "    where year = 2015;\n",
    "    \n",
    "select * from pop_plus;"
   ]
  },
  {
   "cell_type": "markdown",
   "id": "eb23c63e",
   "metadata": {},
   "source": [
    "# Common Table Expressions (CTEs)\n",
    "- To improve readability from the complicated subquery structures\n",
    "- Table declared before the main query\n",
    "- Named and referenced later in FROM statement\n",
    "- Setting up CTEs"
   ]
  },
  {
   "cell_type": "code",
   "execution_count": null,
   "id": "5c0caabb",
   "metadata": {},
   "outputs": [],
   "source": [
    "with cte as (\n",
    "    select col1, col2 from table)\n",
    "\n",
    "select avg(col1) as avg_col from cte;"
   ]
  },
  {
   "cell_type": "markdown",
   "id": "173777f5",
   "metadata": {},
   "source": [
    "- Why CTEs?\n",
    "\t- Executed once\n",
    "\t\t- CTE is then stored in memory\n",
    "\t\t- improves query performance\n",
    "\t- improving organization of queries\n",
    "\t- reference other CTEs\n",
    "\t- Reference itself (SELF JOIN)"
   ]
  },
  {
   "cell_type": "code",
   "execution_count": null,
   "id": "b2c32aa4",
   "metadata": {},
   "outputs": [],
   "source": [
    "with s1 as (\n",
    "    select country_id, id from match\n",
    "        where (home_goal + away_goal) > =10), \n",
    "s2 as (\n",
    "    select country_id, id from match\n",
    "        where (home_goal + away_goal) <= 1)\n",
    "\n",
    "select c.name as country, count(s1.id) as high_scores, count(s2.id) as low_scores\n",
    "    from country as c\n",
    "    inner join s1\n",
    "    on c.id = s1.country_id\n",
    "    inner join s2\n",
    "    on c.id = s2.country_id\n",
    "    group by country;"
   ]
  },
  {
   "cell_type": "markdown",
   "id": "ad769f43",
   "metadata": {},
   "source": [
    "# Window functions\n",
    "- Working w/ aggregate values\n",
    "    - requires you to use group by with all non-aggregate columns"
   ]
  },
  {
   "cell_type": "code",
   "execution_count": null,
   "id": "b7c982e2",
   "metadata": {},
   "outputs": [],
   "source": [
    "select country_id, season, date, avg(home_goal) as avg_home\n",
    "    from match\n",
    "    group by country_id;\n",
    "    \n",
    "# -> Error: \"match.season\" must appear in the group by clause or be used in an aggregate function"
   ]
  },
  {
   "cell_type": "markdown",
   "id": "356939a6",
   "metadata": {},
   "source": [
    "## over() clause\n",
    "- aggregate function for entire range\n",
    "- run faster than subqueries in SELECT"
   ]
  },
  {
   "cell_type": "code",
   "execution_count": null,
   "id": "6f9bd79e",
   "metadata": {},
   "outputs": [],
   "source": [
    "/* overall average by using subquery */\n",
    "select date, \n",
    "    (select avg(home_goal + away_goal)\n",
    "     from match\n",
    "     where season = '2011/2012') as overall_avg\n",
    "from match\n",
    "where season = '2011/2012';"
   ]
  },
  {
   "cell_type": "code",
   "execution_count": null,
   "id": "6f285800",
   "metadata": {},
   "outputs": [],
   "source": [
    "/* overall average by over() clause */\n",
    "select date,\n",
    "       avg(home_goal + away_goal) over() as overall_avg\n",
    "from match\n",
    "where season = '2011/2012';"
   ]
  },
  {
   "cell_type": "markdown",
   "id": "89da6229",
   "metadata": {},
   "source": [
    "## rank() function + over(order by)\n",
    "- e.g., what is the rank of matches based on number of goals scored?"
   ]
  },
  {
   "cell_type": "code",
   "execution_count": null,
   "id": "ffc1a4d0",
   "metadata": {},
   "outputs": [],
   "source": [
    "select date, (home_goal + away_goal) as goals,\n",
    "    rank() over(order by home_goal + away_goal) as goals_rank\n",
    "from match\n",
    "where season = '2011/2012';"
   ]
  },
  {
   "cell_type": "markdown",
   "id": "052bdd4b",
   "metadata": {},
   "source": [
    "## Over w/ a **partition by**\n",
    "- Calculate separate values for different categories\n",
    "- Calculate different calculations in the same column"
   ]
  },
  {
   "cell_type": "code",
   "execution_count": null,
   "id": "c34a73dd",
   "metadata": {},
   "outputs": [],
   "source": [
    "avg(home_goal) over(partition by season)"
   ]
  },
  {
   "cell_type": "code",
   "execution_count": null,
   "id": "b0ec2416",
   "metadata": {},
   "outputs": [],
   "source": [
    "select date, avg(home_goal + away_goal) over(partition by season) as season_avg\n",
    "    from match\n",
    "    where season = '2011/2012';"
   ]
  },
  {
   "cell_type": "markdown",
   "id": "a31f7093",
   "metadata": {},
   "source": [
    "## partition by multiple columns"
   ]
  },
  {
   "cell_type": "code",
   "execution_count": null,
   "id": "5da833d7",
   "metadata": {},
   "outputs": [],
   "source": [
    "select c.name, m.season, (home_goal+away_goal) as goals,\n",
    "    avg(home_goal + away_goal) over(partition by m.season, c.name) as season_ctry_avg\n",
    "    from country as c\n",
    "    left join match as m\n",
    "    on c.id = m.country_id"
   ]
  },
  {
   "cell_type": "markdown",
   "id": "dab3123c",
   "metadata": {},
   "source": [
    "# Sliding windows\n",
    "- perform calculations relative to the current row (e.g., cumulative)\n",
    "- can be used to calculate running totals, sums, averages, etc\n",
    "- can be partitioned by one or more columns\n",
    "\n",
    "``\n",
    "rows between <start> and <finish>\n",
    "``\n",
    "- PRECEDING, FOLLOWING, \n",
    "- UNBOUNDED PRECEDING, UNBOUNDED FOLLOWING,   <- start / end point\n",
    "- CURRENT ROW"
   ]
  },
  {
   "cell_type": "code",
   "execution_count": null,
   "id": "ff9d9a4d",
   "metadata": {},
   "outputs": [],
   "source": [
    "rows between <start> and <finish>"
   ]
  },
  {
   "cell_type": "code",
   "execution_count": null,
   "id": "8794a0cf",
   "metadata": {},
   "outputs": [],
   "source": [
    "select date, home_goal, away_goal,\n",
    "    sum(home_goal) over(order by date \n",
    "        rows between unbounded preceding and current row) \n",
    "        as running_total\n",
    "from match\n",
    "where hometeam_id = 8456 and season = '2011/2012';"
   ]
  },
  {
   "cell_type": "code",
   "execution_count": null,
   "id": "ba3248f7",
   "metadata": {},
   "outputs": [],
   "source": [
    "select date, home_goal, away_goal,\n",
    "    sum(home_goal) over(order by date \n",
    "            rows between 1 preceding and current row) \n",
    "        as last2\n",
    "from match\n",
    "where hometeam_id = 8456 and season = '2011/2012';"
   ]
  },
  {
   "cell_type": "code",
   "execution_count": null,
   "id": "97fbd60d",
   "metadata": {},
   "outputs": [],
   "source": []
  },
  {
   "cell_type": "markdown",
   "id": "ffaf3bc1-7cb6-4487-bb7d-a0837bc65727",
   "metadata": {},
   "source": [
    "# Other Questions"
   ]
  },
  {
   "cell_type": "markdown",
   "id": "0eb2a6d2-8bc8-4f33-812d-c6511effef08",
   "metadata": {},
   "source": [
    "### What are the benefits of performing in-database analytics?\n",
    "\n",
    "- works with an efficient speed: a rapid and effective means to obtain, alter, or store data.\n",
    "- reliable and efficient language used for communicating with the database."
   ]
  },
  {
   "cell_type": "markdown",
   "id": "5fac7f27-be7e-4581-ad5e-3c7c633de69f",
   "metadata": {},
   "source": [
    "### Under what conditions would a window function be useful when doing data science with SQL?\n",
    "- Working w/ aggregate values \n",
    "    - requires you to use group by with all non-aggregate columns\n",
    "- e.g., over() clause\n",
    "    - aggregate function for entire range\n",
    "    - run faster than subqueries in SELECT"
   ]
  },
  {
   "cell_type": "markdown",
   "id": "efe14fc4-9597-4d27-8fed-deeb944b4301",
   "metadata": {},
   "source": [
    "### Explain the difference between databases, database management systems, and querying languages\n",
    "- database: organized collection of structured information or collectioin of virtual tables that store information\n",
    "- DBMS: a type of software that for either manipulation of the data in the database or the management of the database structure itself.\n",
    "- qiuering languages: language that is used for updating, retrieving, or deleting information in the data structure"
   ]
  },
  {
   "cell_type": "markdown",
   "id": "5ed3c126-a368-4c86-9aa0-f569ab489109",
   "metadata": {},
   "source": [
    "### Describe a situation where left join, but not a right join, is appropriate\n",
    "- if there are more than 2 tables, it would be set a main data as a reft one, then add up with left join."
   ]
  },
  {
   "cell_type": "markdown",
   "id": "ee47a78e-699f-418a-aaeb-667312c675f8",
   "metadata": {},
   "source": [
    "### What are the main benefits of using a relational database over a large excel spreadsheet?\n",
    "- for the easy retrieval and updating of data, efficiency, data consistency, data integrity, speed, and security, relational databases are definitely the structure to opt for. \n",
    "- a type of database that stores and provides access to data points that are related to one another. "
   ]
  },
  {
   "cell_type": "markdown",
   "id": "86492eb4-ee66-410d-b1ce-a914364b56ef",
   "metadata": {},
   "source": [
    "### Can you explain the difference between the WHERE and HAVING filters? Can you exemplify a situation where just one, but not the other, of these filters is appropriate?\n",
    "- Where Clause: \n",
    "    - used to fetch/filter the records into rows before they are grouped.\n",
    "    - no aggregate function is allowed\n",
    "- Having Clause:\n",
    "    - Data from a group is fetched with the help of the “Having” clause by posing certain condition.\n",
    "    - aggregate function is allowed"
   ]
  },
  {
   "cell_type": "raw",
   "id": "cd4fc2a4-cde0-44a5-bd2b-7dee6d1605b8",
   "metadata": {},
   "source": [
    "SELECT COUNT(BOOK_ID), LANGUAGE\n",
    "    FROM BOOKS\n",
    "    GROUP BY LANGUAGE\n",
    "    HAVING COUNT(LANGUAGE) > 1;"
   ]
  },
  {
   "cell_type": "markdown",
   "id": "3123750d-5324-40a6-9fd1-9efbc12e2422",
   "metadata": {},
   "source": [
    "### What does the LIMIT command do?\n",
    "- limit the upper number of output lines"
   ]
  },
  {
   "cell_type": "markdown",
   "id": "7647edcc-a326-48f9-a510-d028fe897921",
   "metadata": {},
   "source": [
    "### How can you use the BETWEEN to select from a range of values? Can you provide an example and recode the same example using an AND statement?"
   ]
  },
  {
   "cell_type": "code",
   "execution_count": null,
   "id": "8eaa4d08-5686-4b88-bbe4-35d30bba8089",
   "metadata": {},
   "outputs": [],
   "source": [
    "select title from films\n",
    "    where release_year\n",
    "    between 1994 and 2000;"
   ]
  },
  {
   "cell_type": "markdown",
   "id": "68b7ac61-ec93-47c4-815a-0eee7277ab3d",
   "metadata": {},
   "source": [
    "### How would you find records where the first name of an employee started with the letter P?"
   ]
  },
  {
   "cell_type": "code",
   "execution_count": null,
   "id": "fc103cb6-c068-484c-a65e-5a486c80a8fa",
   "metadata": {},
   "outputs": [],
   "source": [
    "select name from companies\n",
    "    where name like 'P%';"
   ]
  },
  {
   "cell_type": "markdown",
   "id": "ac15481a-65a3-4eae-b80b-1e387be70a4c",
   "metadata": {},
   "source": [
    "### What are the wild card operators?\n",
    "- %: Represents zero or more characters: bl% finds bl, black, blue, and blob\n",
    "- \\_: Represents a single character: h_t finds hot, hat, and hit\n",
    "- []: Represents any single character within the brackets: h[oa]t finds hot and hat, but not hit\n",
    "- ^: Represents any character not in the brackets: h[^oa]t finds hit, but not hot and hat\n",
    "- \\-: Represents any single character within the specified range: c[a-b]t finds cat and cbt"
   ]
  },
  {
   "cell_type": "markdown",
   "id": "43ca3dd3-e49f-4545-ab87-6a0db1d3c5ab",
   "metadata": {},
   "source": [
    "### How would you select values NOT IN a query result given a where statement?"
   ]
  },
  {
   "cell_type": "code",
   "execution_count": null,
   "id": "b59b4058-d14a-43bd-b392-b8aa59a81c69",
   "metadata": {},
   "outputs": [],
   "source": [
    "select name from company\n",
    "    where name not in ('adam', 'john');"
   ]
  },
  {
   "cell_type": "markdown",
   "id": "9e9f27d5-7b4d-4d9a-b5b3-d03f7af2657b",
   "metadata": {},
   "source": [
    "### How could you find the number of unique neighborhoods that customers come from?"
   ]
  },
  {
   "cell_type": "code",
   "execution_count": null,
   "id": "a7493c35-da97-4bec-878a-25ef94777b8a",
   "metadata": {},
   "outputs": [],
   "source": [
    "select count(distinct neighborhoods) as n_unique_nbh\n",
    "    from customers;"
   ]
  },
  {
   "cell_type": "markdown",
   "id": "07c6b1a2-963e-4ecd-b94f-69fe7d1defb1",
   "metadata": {},
   "source": [
    "### How would you concatenate two columns together to make a new column?"
   ]
  },
  {
   "cell_type": "code",
   "execution_count": null,
   "id": "9bf9fb1e-021d-43b6-a79f-56bfbe5c0c92",
   "metadata": {},
   "outputs": [],
   "source": [
    "select concat(c.FIRSTNAME, ',', c.LASTNAME) as name\n",
    "    from customers c;"
   ]
  }
 ],
 "metadata": {
  "kernelspec": {
   "display_name": "Python 3 (ipykernel)",
   "language": "python",
   "name": "python3"
  },
  "language_info": {
   "codemirror_mode": {
    "name": "ipython",
    "version": 3
   },
   "file_extension": ".py",
   "mimetype": "text/x-python",
   "name": "python",
   "nbconvert_exporter": "python",
   "pygments_lexer": "ipython3",
   "version": "3.8.3"
  },
  "toc-autonumbering": false,
  "toc-showcode": false
 },
 "nbformat": 4,
 "nbformat_minor": 5
}
