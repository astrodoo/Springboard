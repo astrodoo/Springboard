{
 "cells": [
  {
   "cell_type": "markdown",
   "id": "7848f37c",
   "metadata": {},
   "source": [
    "# is vs. == operator\n",
    "\n",
    "- == operator compares objects based on their values\n",
    "- is operator compares objects based on their identity (memory location)"
   ]
  },
  {
   "cell_type": "code",
   "execution_count": 1,
   "id": "ff81ce5a",
   "metadata": {},
   "outputs": [
    {
     "name": "stdout",
     "output_type": "stream",
     "text": [
      "True\n",
      "True\n",
      "4485511808 4485511808\n"
     ]
    }
   ],
   "source": [
    "# Equality operator\n",
    "a=10\n",
    "b=10\n",
    "\n",
    "print(a==b)\n",
    "print(a is b)\n",
    "print(id(a), id(b))"
   ]
  },
  {
   "cell_type": "code",
   "execution_count": 2,
   "id": "fc7cbf5f",
   "metadata": {},
   "outputs": [
    {
     "name": "stdout",
     "output_type": "stream",
     "text": [
      "True\n",
      "False\n",
      "140351844895680 140351844885120\n"
     ]
    }
   ],
   "source": [
    "lst1 = []\n",
    "lst2 = []\n",
    "\n",
    "print(lst1==lst2)\n",
    "print(lst1 is lst2)\n",
    "print(id(lst1), id(lst2))"
   ]
  },
  {
   "cell_type": "markdown",
   "id": "6b312902",
   "metadata": {},
   "source": [
    "# tuple, list, dictionary, tuple\n",
    "- lists: just like dynamic sized arrays, declared in other languages\n",
    "    - mutable / ordered\n",
    "- tuple: a collection of Python objects separated by commas\n",
    "    - immutable / ordered\n",
    "- dictionary:  collection of data values, used to store data values like a map, which, unlike other Data Types that hold only a single value as an element, Dictionary holds key:value pair. Key-value is provided in the dictionary to make it more optimized. It becomes ordered since Python 3.7.\n",
    "    - mutable (keys are not duplicated) / ordered (above python 3.7)\n",
    "- set: unordered collection data type that is iterable, mutable, and has no duplicate elements. Python’s set class represents the mathematical notion of a set.\n",
    "    - mutable (elements are not duplicated) / unordered"
   ]
  },
  {
   "cell_type": "markdown",
   "id": "d06b5c98",
   "metadata": {},
   "source": [
    "## list"
   ]
  },
  {
   "cell_type": "code",
   "execution_count": 5,
   "id": "b4e16617",
   "metadata": {},
   "outputs": [
    {
     "name": "stdout",
     "output_type": "stream",
     "text": [
      "[5, 10]\n",
      "[5]\n"
     ]
    }
   ],
   "source": [
    "l = []\n",
    "\n",
    "l.append(5)\n",
    "l.append(10)\n",
    "print(l)\n",
    "\n",
    "l.pop()\n",
    "print(l)"
   ]
  },
  {
   "cell_type": "markdown",
   "id": "f037eaf0",
   "metadata": {},
   "source": [
    "## set"
   ]
  },
  {
   "cell_type": "code",
   "execution_count": 6,
   "id": "b864ed18",
   "metadata": {},
   "outputs": [
    {
     "name": "stdout",
     "output_type": "stream",
     "text": [
      "{10, 5}\n",
      "{10}\n"
     ]
    }
   ],
   "source": [
    "s = set()\n",
    "\n",
    "s.add(5)\n",
    "s.add(10)\n",
    "\n",
    "print(s)\n",
    "\n",
    "s.remove(5)\n",
    "print(s)"
   ]
  },
  {
   "cell_type": "markdown",
   "id": "4886e439",
   "metadata": {},
   "source": [
    "## Tuple"
   ]
  },
  {
   "cell_type": "code",
   "execution_count": 7,
   "id": "fae695c2",
   "metadata": {},
   "outputs": [
    {
     "name": "stdout",
     "output_type": "stream",
     "text": [
      "(5,)\n"
     ]
    }
   ],
   "source": [
    "t = tuple(l)\n",
    "\n",
    "print(t)"
   ]
  },
  {
   "cell_type": "markdown",
   "id": "1e92ec91",
   "metadata": {},
   "source": [
    "## Dictionary"
   ]
  },
  {
   "cell_type": "code",
   "execution_count": 8,
   "id": "6373d159",
   "metadata": {},
   "outputs": [
    {
     "name": "stdout",
     "output_type": "stream",
     "text": [
      "{5: 'five', 10: 'ten'}\n",
      "{5: 'five'}\n"
     ]
    }
   ],
   "source": [
    "d = {}\n",
    "\n",
    "d[5] = 'five'\n",
    "d[10] = 'ten'\n",
    "\n",
    "print(d)\n",
    "\n",
    "del d[10]\n",
    "print(d)"
   ]
  },
  {
   "cell_type": "markdown",
   "id": "393e0fb6",
   "metadata": {},
   "source": [
    "# Sort"
   ]
  },
  {
   "cell_type": "markdown",
   "id": "7a99b913",
   "metadata": {},
   "source": [
    "## Sort a list of strings using standard tools"
   ]
  },
  {
   "cell_type": "code",
   "execution_count": 12,
   "id": "04ee229c",
   "metadata": {},
   "outputs": [
    {
     "name": "stdout",
     "output_type": "stream",
     "text": [
      "['a', 'for', 'geeks', 'gfg', 'is', 'portal']\n"
     ]
    }
   ],
   "source": [
    "lst = ['gfg', 'is', 'a', 'portal', 'for', 'geeks']\n",
    "\n",
    "# usig sort() function\n",
    "lst.sort()\n",
    "\n",
    "print(lst)"
   ]
  },
  {
   "cell_type": "code",
   "execution_count": 13,
   "id": "49349f88",
   "metadata": {},
   "outputs": [
    {
     "name": "stdout",
     "output_type": "stream",
     "text": [
      "['a', 'is', 'gfg', 'for', 'geeks', 'portal']\n"
     ]
    }
   ],
   "source": [
    "lst = ['gfg', 'is', 'a', 'portal', 'for', 'geeks']\n",
    "\n",
    "# usig sort() function by length\n",
    "lst.sort(key = len)\n",
    "\n",
    "print(lst)"
   ]
  },
  {
   "cell_type": "code",
   "execution_count": 7,
   "id": "1df6ac83",
   "metadata": {},
   "outputs": [
    {
     "name": "stdout",
     "output_type": "stream",
     "text": [
      "['a', 'for', 'geeks', 'gfg', 'is', 'portal']\n",
      "['portal', 'is', 'gfg', 'geeks', 'for', 'a']\n",
      "['a', 'is', 'gfg', 'for', 'geeks', 'portal']\n"
     ]
    }
   ],
   "source": [
    "lst = ['gfg', 'is', 'a', 'portal', 'for', 'geeks']\n",
    "\n",
    "# using sorted() function\n",
    "lst_sorted = sorted(lst)\n",
    "\n",
    "# using sorted() function reversely \n",
    "lst_sorted_rev = sorted(lst, reverse=True)\n",
    "\n",
    "# using sorted() function by length\n",
    "lst_sorted_len = sorted(lst, key=len)\n",
    "\n",
    "print(lst_sorted)\n",
    "print(lst_sorted_rev)\n",
    "print(lst_sorted_len)"
   ]
  },
  {
   "cell_type": "markdown",
   "id": "2a66ef33",
   "metadata": {},
   "source": [
    "## Sort a list of lists where each sublist contains strings"
   ]
  },
  {
   "cell_type": "code",
   "execution_count": 9,
   "id": "9f834207",
   "metadata": {},
   "outputs": [
    {
     "name": "stdout",
     "output_type": "stream",
     "text": [
      "[['Canada', 'France', 'Lanka', 'London', 'Machine'], ['Munich', 'Spain'], ['Australia', 'Mandi']]\n"
     ]
    }
   ],
   "source": [
    "Input = [['Machine', 'London', 'Canada', 'France', 'Lanka'],\n",
    "         ['Spain', 'Munich'],\n",
    "         ['Australia', 'Mandi']]\n",
    "\n",
    "# using map function for sorting\n",
    "Output = list(map(sorted, Input))\n",
    "\n",
    "print(Output)"
   ]
  },
  {
   "cell_type": "code",
   "execution_count": 13,
   "id": "c7e15a25",
   "metadata": {},
   "outputs": [
    {
     "name": "stdout",
     "output_type": "stream",
     "text": [
      "[['Canada', 'France', 'Lanka', 'London', 'Machine'], ['Munich', 'Spain'], ['Australia', 'Mandi']]\n"
     ]
    }
   ],
   "source": [
    "Input = [['Machine', 'London', 'Canada', 'France', 'Lanka'],\n",
    "         ['Spain', 'Munich'],\n",
    "         ['Australia', 'Mandi']]\n",
    "\n",
    "# using lambda and sorted\n",
    "Output = [sorted(x) for x in Input]\n",
    "\n",
    "print(Output)"
   ]
  },
  {
   "cell_type": "markdown",
   "id": "c5066e8a",
   "metadata": {},
   "source": [
    "### make the lists of list to a single list"
   ]
  },
  {
   "cell_type": "code",
   "execution_count": 140,
   "id": "19571f7f",
   "metadata": {},
   "outputs": [
    {
     "name": "stdout",
     "output_type": "stream",
     "text": [
      "flattened list: ['Machine', 'London', 'Canada', 'France', 'Lanka', 'Spain', 'Munich', 'Australia', 'Mandi']\n",
      "['Australia', 'Canada', 'France', 'Lanka', 'London', 'Machine', 'Mandi', 'Munich', 'Spain']\n"
     ]
    }
   ],
   "source": [
    "Input = [['Machine', 'London', 'Canada', 'France', 'Lanka'],\n",
    "         ['Spain', 'Munich'],\n",
    "         ['Australia', 'Mandi']]\n",
    "\n",
    "flat_lst = [item for sub_lst in Input for item in sub_lst]\n",
    "print('flattened list: {}'.format(flat_lst))\n",
    "\n",
    "lst_sorted = sorted(flat_lst)\n",
    "\n",
    "print(lst_sorted)"
   ]
  },
  {
   "cell_type": "markdown",
   "id": "49c2ab1a",
   "metadata": {},
   "source": [
    "## sort all the characters in a string by hand"
   ]
  },
  {
   "cell_type": "code",
   "execution_count": 113,
   "id": "e7f7e5df",
   "metadata": {},
   "outputs": [
    {
     "name": "stdout",
     "output_type": "stream",
     "text": [
      "['A', 'A', 'D', 'E', 'E', 'F', 'F', 'N', 'Z']\n",
      "AADEEFFNZ\n"
     ]
    }
   ],
   "source": [
    "a = 'ZENDFAAEF'\n",
    "\n",
    "a_sorted_lst = sorted(a, reverse=False, key=str.lower)\n",
    "print(a_sorted_lst)\n",
    "a_sorted = ''.join(sorted(a, reverse=False, key=str.lower))\n",
    "print(a_sorted)"
   ]
  },
  {
   "cell_type": "code",
   "execution_count": null,
   "id": "5d7a3311",
   "metadata": {},
   "outputs": [],
   "source": []
  },
  {
   "cell_type": "markdown",
   "id": "bd468dd9",
   "metadata": {},
   "source": [
    "## Hand-coded Sort Algorithms"
   ]
  },
  {
   "cell_type": "code",
   "execution_count": 122,
   "id": "c593eda8",
   "metadata": {},
   "outputs": [],
   "source": [
    "def bubbleSort(arr):\n",
    "     \n",
    "    n = len(arr)\n",
    " \n",
    "    # For loop to traverse through all\n",
    "    # element in an array\n",
    "    for i in range(n):\n",
    "        for j in range(0, n - i - 1):\n",
    "             \n",
    "            # Range of the array is from 0 to n-i-1\n",
    "            # Swap the elements if the element found\n",
    "            #is greater than the adjacent element\n",
    "            if arr[j] > arr[j + 1]:\n",
    "                arr[j], arr[j + 1] = arr[j + 1], arr[j]\n",
    "    return arr"
   ]
  },
  {
   "cell_type": "code",
   "execution_count": 124,
   "id": "88aa49f2",
   "metadata": {},
   "outputs": [],
   "source": [
    "def selectionSort(array, size):\n",
    "     \n",
    "    for s in range(size):\n",
    "        min_idx = s\n",
    "         \n",
    "        for i in range(s + 1, size):\n",
    "             \n",
    "            # For sorting in descending order\n",
    "            # for minimum element in each loop\n",
    "            if array[i] < array[min_idx]:\n",
    "                min_idx = i\n",
    " \n",
    "        # Arranging min at the correct position\n",
    "        (array[s], array[min_idx]) = (array[min_idx], array[s])\n",
    "        \n",
    "    return array"
   ]
  },
  {
   "cell_type": "code",
   "execution_count": 126,
   "id": "8e998506",
   "metadata": {},
   "outputs": [],
   "source": [
    "def insertion_sort(list1): \n",
    "   \n",
    "    # Outer loop to traverse on len(list1) \n",
    "    for i in range(1, len(list1)): \n",
    "   \n",
    "        a = list1[i] \n",
    "   \n",
    "        # Move elements of list1[0 to i-1],\n",
    "        # which are greater to one position\n",
    "        # ahead of their current position \n",
    "        j = i - 1 \n",
    "           \n",
    "        while j >= 0 and a < list1[j]: \n",
    "            list1[j + 1] = list1[j] \n",
    "            j -= 1 \n",
    "                 \n",
    "        list1[j + 1] = a \n",
    "             \n",
    "    return list1 "
   ]
  },
  {
   "cell_type": "code",
   "execution_count": 127,
   "id": "0c390edf",
   "metadata": {},
   "outputs": [
    {
     "name": "stdout",
     "output_type": "stream",
     "text": [
      "[1, 2, 10, 23]\n",
      "[1, 2, 10, 23]\n",
      "[1, 2, 10, 23]\n"
     ]
    }
   ],
   "source": [
    "arr = [ 2, 1, 10, 23 ]\n",
    " \n",
    "bub_sorted_arr = bubbleSort(arr)\n",
    "print(bub_sorted_arr)\n",
    "\n",
    "arr_size = len(arr)\n",
    "sel_sorted_arr = selectionSort(arr, arr_size)\n",
    "print(sel_sorted_arr)\n",
    "\n",
    "ins_sorted_arr = insertion_sort(arr)\n",
    "print(ins_sorted_arr)"
   ]
  },
  {
   "cell_type": "code",
   "execution_count": 129,
   "id": "ab76fd0a",
   "metadata": {},
   "outputs": [
    {
     "name": "stdout",
     "output_type": "stream",
     "text": [
      "['a', 'c', 'd']\n"
     ]
    }
   ],
   "source": [
    "arr = [ 'a', 'd', 'c' ]\n",
    " \n",
    "bub_sorted_arr = bubbleSort(arr)\n",
    "print(bub_sorted_arr)"
   ]
  },
  {
   "cell_type": "markdown",
   "id": "73d3a7e5",
   "metadata": {},
   "source": [
    "## convert a list of like dictionaries into a single dictionary where the values are lists"
   ]
  },
  {
   "cell_type": "markdown",
   "id": "12501928",
   "metadata": {},
   "source": [
    "### convert a list of tuples to a dictionary"
   ]
  },
  {
   "cell_type": "code",
   "execution_count": 18,
   "id": "f601730c",
   "metadata": {},
   "outputs": [
    {
     "name": "stdout",
     "output_type": "stream",
     "text": [
      "{'red': 1, 'blue': 2, 'green': 3}\n"
     ]
    }
   ],
   "source": [
    "color=[('red',1),('blue',2),('green',3)]\n",
    "\n",
    "d = dict(color)\n",
    "print(d)"
   ]
  },
  {
   "cell_type": "markdown",
   "id": "b1cc16aa",
   "metadata": {},
   "source": [
    "### convert two lists to a dictionary: zip() function"
   ]
  },
  {
   "cell_type": "code",
   "execution_count": 5,
   "id": "a4790135",
   "metadata": {},
   "outputs": [
    {
     "name": "stdout",
     "output_type": "stream",
     "text": [
      "{1: 'a', 2: 'b', 3: 'c', 4: 'd'}\n"
     ]
    }
   ],
   "source": [
    "l1=[1,2,3,4]\n",
    "l2=['a','b','c','d']\n",
    "\n",
    "l_ziped = zip(l1,l2)\n",
    "#print(list(l_ziped))\n",
    "\n",
    "d = dict(l_ziped)\n",
    "print(d)"
   ]
  },
  {
   "cell_type": "code",
   "execution_count": 6,
   "id": "fc12be59-49fb-44c5-9b31-7b9d27b328d8",
   "metadata": {},
   "outputs": [
    {
     "name": "stdout",
     "output_type": "stream",
     "text": [
      "{1: 'a', 2: 'b', 3: 'c', 4: 'd'}\n"
     ]
    }
   ],
   "source": [
    "l1=[1,2,3,4]\n",
    "l2=['a','b','c','d']\n",
    "\n",
    "d = {l1[i]:l2[i] for i in range(len(l1))}\n",
    "print(d)"
   ]
  },
  {
   "cell_type": "markdown",
   "id": "f943f727",
   "metadata": {},
   "source": [
    "### convert two lists in different length to a dictionary: zip_longest() function in itertools"
   ]
  },
  {
   "cell_type": "code",
   "execution_count": 3,
   "id": "e3766c61",
   "metadata": {},
   "outputs": [
    {
     "name": "stdout",
     "output_type": "stream",
     "text": [
      "{1: 'a', 2: 'b', 3: 'c', 4: 'd'}\n"
     ]
    }
   ],
   "source": [
    "l1=[1,2,3,4,5,6,7]\n",
    "l2=['a','b','c','d']\n",
    "\n",
    "l_ziped = zip(l1,l2)\n",
    "#print(list(l_ziped))\n",
    "\n",
    "d = dict(l_ziped)\n",
    "print(d)"
   ]
  },
  {
   "cell_type": "code",
   "execution_count": 30,
   "id": "7322cc57",
   "metadata": {},
   "outputs": [
    {
     "name": "stdout",
     "output_type": "stream",
     "text": [
      "{1: 'a', 2: 'b', 3: 'c', 4: 'd', 5: None, 6: None, 7: None}\n"
     ]
    }
   ],
   "source": [
    "from itertools import zip_longest\n",
    "\n",
    "l1=[1,2,3,4,5,6,7]\n",
    "l2=['a','b','c','d']\n",
    "\n",
    "l_ziped = zip_longest(l1,l2, fillvalue=None)\n",
    "\n",
    "d = dict(l_ziped)\n",
    "print(d)"
   ]
  },
  {
   "cell_type": "markdown",
   "id": "e82f3855",
   "metadata": {},
   "source": [
    "### convert a list of dictionary to a single dictionary"
   ]
  },
  {
   "cell_type": "code",
   "execution_count": 32,
   "id": "c35c684c",
   "metadata": {},
   "outputs": [
    {
     "name": "stdout",
     "output_type": "stream",
     "text": [
      "{1: 'a', 2: 'b', 3: 'c', 4: 'd'}\n"
     ]
    }
   ],
   "source": [
    "# using dict.update()\n",
    "\n",
    "l1=[{1:'a',2:'b'},{3:'c',4:'d'}]\n",
    "\n",
    "d1={}\n",
    "for i in l1:\n",
    "    d1.update(i)\n",
    "    \n",
    "print(d1)"
   ]
  },
  {
   "cell_type": "code",
   "execution_count": 159,
   "id": "0d73eb30",
   "metadata": {},
   "outputs": [
    {
     "name": "stdout",
     "output_type": "stream",
     "text": [
      "{1: 'a', 2: 'b', 3: 'c', 4: 'd'}\n"
     ]
    }
   ],
   "source": [
    "# using dictionary comprehension\n",
    "\n",
    "l1=[{1:'a',2:'b'},{3:'c',4:'d'}]\n",
    "\n",
    "d1 = {k:v for sub_d in l1 for (k,v) in sub_d.items()}\n",
    "print(d1)"
   ]
  },
  {
   "cell_type": "code",
   "execution_count": 162,
   "id": "b589e1d1",
   "metadata": {},
   "outputs": [
    {
     "name": "stdout",
     "output_type": "stream",
     "text": [
      "1 a\n",
      "2 b\n",
      "3 c\n",
      "4 d\n"
     ]
    }
   ],
   "source": [
    "for key, val in d1.items():\n",
    "    print(key, val)"
   ]
  },
  {
   "cell_type": "markdown",
   "id": "4b35fc6e",
   "metadata": {},
   "source": [
    "### convert a nested list to a dictionary"
   ]
  },
  {
   "cell_type": "code",
   "execution_count": 36,
   "id": "7ecf46e3",
   "metadata": {},
   "outputs": [
    {
     "name": "stdout",
     "output_type": "stream",
     "text": [
      "{1: 2, 3: 4, 5: [6, 7]}\n"
     ]
    }
   ],
   "source": [
    "l1 = [[1,2],[3,4],[5,[6,7]]]\n",
    "\n",
    "d1 = {x[0]:x[1] for x in l1}\n",
    "print(d1)"
   ]
  },
  {
   "cell_type": "markdown",
   "id": "6206ef36",
   "metadata": {},
   "source": [
    "## Count frequencies: Counter() function in collections"
   ]
  },
  {
   "cell_type": "code",
   "execution_count": 39,
   "id": "13227a3e",
   "metadata": {},
   "outputs": [
    {
     "name": "stdout",
     "output_type": "stream",
     "text": [
      "Counter({'b': 3, 'c': 2, 'a': 2})\n",
      "{'c': 2, 'b': 3, 'a': 2}\n"
     ]
    }
   ],
   "source": [
    "from collections import Counter\n",
    "c1=Counter(['c','b','a','b','c','a','b'])\n",
    "\n",
    "#key are elements and corresponding values are their frequencies\n",
    "print(c1)\n",
    "d1 = dict(c1)\n",
    "print(d1)"
   ]
  },
  {
   "cell_type": "markdown",
   "id": "93c69705",
   "metadata": {},
   "source": [
    "## get the min/max numeric value in a list of numbers"
   ]
  },
  {
   "cell_type": "code",
   "execution_count": 41,
   "id": "44e4a303",
   "metadata": {},
   "outputs": [
    {
     "name": "stdout",
     "output_type": "stream",
     "text": [
      "min:-9, max:8\n"
     ]
    }
   ],
   "source": [
    "list1 = [4, -4, 8, -9, 1]\n",
    "\n",
    "minv = min(list1)\n",
    "maxv = max(list1)\n",
    "\n",
    "print('min:{}, max:{}'.format(minv, maxv))"
   ]
  },
  {
   "cell_type": "markdown",
   "id": "349e4e8e",
   "metadata": {},
   "source": [
    "## get the mean (code it by hand)"
   ]
  },
  {
   "cell_type": "code",
   "execution_count": 44,
   "id": "e7d5cfae",
   "metadata": {},
   "outputs": [
    {
     "name": "stdout",
     "output_type": "stream",
     "text": [
      "mean value: 35.75\n"
     ]
    }
   ],
   "source": [
    "def calc_mean(lst):\n",
    "    return sum(lst) / len(lst)\n",
    "\n",
    "lst = [15, 9, 55, 41, 35, 20, 62, 49]\n",
    "\n",
    "meanv = calc_mean(lst)\n",
    "print(\"mean value: {}\".format(meanv))"
   ]
  },
  {
   "cell_type": "code",
   "execution_count": 53,
   "id": "b99fa88e",
   "metadata": {},
   "outputs": [
    {
     "name": "stdout",
     "output_type": "stream",
     "text": [
      "median value: 9.0\n"
     ]
    }
   ],
   "source": [
    "def calc_median(lst):\n",
    "    \n",
    "    lst_sorted = sorted(lst)\n",
    "    mid = len(lst_sorted)//2\n",
    "    \n",
    "    # ~ operator is the indexing backward from endpoint\n",
    "    # list[~ind] == list[-ind-1]\n",
    "    return (lst_sorted[mid] + lst_sorted[~mid]) / 2\n",
    "\n",
    "lst = [4, 5, 8, 9, 10, 17,18]\n",
    "\n",
    "medianv = calc_median(lst)\n",
    "print(\"median value: {}\".format(medianv))"
   ]
  },
  {
   "cell_type": "markdown",
   "id": "367b6fb7",
   "metadata": {},
   "source": [
    "## get the maximum numeric value in a list of lists of numbers"
   ]
  },
  {
   "cell_type": "code",
   "execution_count": 100,
   "id": "e81966d9",
   "metadata": {},
   "outputs": [
    {
     "name": "stdout",
     "output_type": "stream",
     "text": [
      "max for sub-list: [454, 23]\n",
      "max value: 454\n"
     ]
    }
   ],
   "source": [
    "# using list comprehension\n",
    "\n",
    "lst = [[10, 13, 454, 66, 44], [10, 8, 7, 23]]\n",
    "\n",
    "sub_maxv = [max(sub_lst) for sub_lst in lst]\n",
    "print('max for sub-list: {}'.format(sub_maxv))\n",
    "\n",
    "maxv = max(sub_maxv)\n",
    "print('max value: {}'.format(maxv))"
   ]
  },
  {
   "cell_type": "code",
   "execution_count": 102,
   "id": "595e2ef8",
   "metadata": {},
   "outputs": [
    {
     "name": "stdout",
     "output_type": "stream",
     "text": [
      "max for sub-list: [454, 23]\n",
      "max value: 454\n"
     ]
    }
   ],
   "source": [
    "# using list append\n",
    "\n",
    "lst = [[10, 13, 454, 66, 44], [10, 8, 7, 23]]\n",
    "\n",
    "sub_maxv = []\n",
    "for sub_lst in lst:\n",
    "    sub_maxv.append(max(sub_lst))\n",
    "\n",
    "print('max for sub-list: {}'.format(sub_maxv))\n",
    "\n",
    "maxv = max(sub_maxv)\n",
    "print('max value: {}'.format(maxv))"
   ]
  },
  {
   "cell_type": "code",
   "execution_count": 103,
   "id": "bd85e217",
   "metadata": {},
   "outputs": [
    {
     "name": "stdout",
     "output_type": "stream",
     "text": [
      "max for sub-list: [454, 23]\n",
      "max value: 454\n"
     ]
    }
   ],
   "source": [
    "# using map() function\n",
    "\n",
    "lst = [[10, 13, 454, 66, 44], [10, 8, 7, 23]]\n",
    "\n",
    "sub_maxv = list(map(max, lst))\n",
    "print('max for sub-list: {}'.format(sub_maxv))\n",
    "\n",
    "maxv = max(sub_maxv)\n",
    "print('max value: {}'.format(maxv))"
   ]
  },
  {
   "cell_type": "markdown",
   "id": "5d32bc34",
   "metadata": {},
   "source": [
    "## get the max numeric value in a list of lists of mixed numbers+strings"
   ]
  },
  {
   "cell_type": "code",
   "execution_count": 106,
   "id": "55bc69f1",
   "metadata": {},
   "outputs": [
    {
     "name": "stdout",
     "output_type": "stream",
     "text": [
      "list of numbers: [1696, 5809]\n",
      "max value: 5809\n"
     ]
    }
   ],
   "source": [
    "lst = ['filename1', 1696, 'filename2', 5809]\n",
    "\n",
    "# isinstance: type - float, int, str, list, dict, tuple\n",
    "lst_num = [num for num in lst if isinstance(num, int)]\n",
    "print('list of numbers: {}'.format(lst_num))\n",
    "\n",
    "maxv_num = max(lst_num)\n",
    "print('max value: {}'.format(maxv_num))"
   ]
  },
  {
   "cell_type": "code",
   "execution_count": 119,
   "id": "aaab38d7",
   "metadata": {},
   "outputs": [
    {
     "name": "stdout",
     "output_type": "stream",
     "text": [
      "list of numbers: [8.3931, 2, 6.3231, 9.1931]\n",
      "max value: 9.1931\n"
     ]
    }
   ],
   "source": [
    "lst = [[\"1\", \"1\", \"a\", 8.3931, 2], [\"1\", \"2\", \"b\", 6.3231], [\"2\", \"1\", \"c\", 9.1931]]\n",
    "\n",
    "lst_num = [num for sub_lst in lst for num in sub_lst if isinstance(num, int) or isinstance(num, float)]\n",
    "print('list of numbers: {}'.format(lst_num))\n",
    "\n",
    "maxv_num = max(lst_num)\n",
    "print('max value: {}'.format(maxv_num))"
   ]
  },
  {
   "cell_type": "markdown",
   "id": "cc89203f",
   "metadata": {},
   "source": [
    "## remove all the duplicates from a list of strings"
   ]
  },
  {
   "cell_type": "code",
   "execution_count": 130,
   "id": "73aff264",
   "metadata": {},
   "outputs": [
    {
     "name": "stdout",
     "output_type": "stream",
     "text": [
      "['Python', 'R', 'C#', 'Java']\n"
     ]
    }
   ],
   "source": [
    "# using for loop\n",
    "\n",
    "codes = ['Python', 'R', 'C#', 'Python', 'R', 'Java']\n",
    "\n",
    "new_lst = []\n",
    "\n",
    "for code in codes:\n",
    "    if code not in new_lst:\n",
    "        new_lst.append(code)\n",
    "        \n",
    "print(new_lst)"
   ]
  },
  {
   "cell_type": "code",
   "execution_count": 136,
   "id": "13a13bac",
   "metadata": {},
   "outputs": [
    {
     "name": "stdout",
     "output_type": "stream",
     "text": [
      "['Python', 'R', 'C#', 'Java']\n"
     ]
    }
   ],
   "source": [
    "# using list comprehension\n",
    "\n",
    "codes = ['Python', 'R', 'C#', 'Python', 'R', 'Java']\n",
    "\n",
    "new_lst = []\n",
    "dummylst = [new_lst.append(code) for code in codes if code not in new_lst]\n",
    "\n",
    "print(new_lst)"
   ]
  },
  {
   "cell_type": "code",
   "execution_count": 137,
   "id": "1c9fa0af",
   "metadata": {},
   "outputs": [
    {
     "name": "stdout",
     "output_type": "stream",
     "text": [
      "['Java', 'C#', 'Python', 'R']\n"
     ]
    }
   ],
   "source": [
    "# using set\n",
    "\n",
    "codes = ['Python', 'R', 'C#', 'Python', 'R', 'Java']\n",
    "\n",
    "new_lst = list(set(codes))\n",
    "\n",
    "print(new_lst)"
   ]
  },
  {
   "cell_type": "markdown",
   "id": "a9e3d8fa",
   "metadata": {},
   "source": [
    "## remove a specific string from a list of strings"
   ]
  },
  {
   "cell_type": "code",
   "execution_count": 144,
   "id": "33b1ae4c",
   "metadata": {},
   "outputs": [
    {
     "name": "stdout",
     "output_type": "stream",
     "text": [
      "['GeeksforGeeks', 'is', 'best']\n"
     ]
    }
   ],
   "source": [
    "test_list = [\"bad\", \"GeeksforGeeks\", \"is\", \"best\", \"bad\"]\n",
    "\n",
    "key_del = 'bad'\n",
    "while(key_del in test_list):\n",
    "    test_list.remove(key_del)\n",
    "\n",
    "print(test_list)"
   ]
  },
  {
   "cell_type": "code",
   "execution_count": 145,
   "id": "1377536c",
   "metadata": {},
   "outputs": [
    {
     "name": "stdout",
     "output_type": "stream",
     "text": [
      "['GeeksforGeeks', 'is', 'best']\n"
     ]
    }
   ],
   "source": [
    "test_list = [\"bad\", \"GeeksforGeeks\", \"is\", \"best\", \"bad\"]\n",
    "\n",
    "key_del = 'bad'\n",
    "\n",
    "new_list = [item for item in test_list if item !=key_del]\n",
    "print(new_list)"
   ]
  },
  {
   "cell_type": "markdown",
   "id": "3d3ac2ff",
   "metadata": {},
   "source": [
    "## remove a substring from a string"
   ]
  },
  {
   "cell_type": "code",
   "execution_count": 151,
   "id": "e27ca2d8",
   "metadata": {},
   "outputs": [
    {
     "name": "stdout",
     "output_type": "stream",
     "text": [
      "I am PFB. I provide free  tutorials for you to learn .\n"
     ]
    }
   ],
   "source": [
    "# 1st method: use replace() method\n",
    "myStr = \"I am PFB. I provide free python tutorials for you to learn python.\"\n",
    "myStr = myStr.replace(\"python\",\"\")\n",
    "print(myStr)"
   ]
  },
  {
   "cell_type": "code",
   "execution_count": 149,
   "id": "192f699e",
   "metadata": {},
   "outputs": [
    {
     "name": "stdout",
     "output_type": "stream",
     "text": [
      "The input string is: I am PFB. I provide free python tutorials for you to learn python.\n",
      "The substring is: python\n",
      "The output string is: I am PFB. I provide free  tutorials for you to learn .\n"
     ]
    }
   ],
   "source": [
    "# 2nd method: use split() method\n",
    "myStr = \"I am PFB. I provide free python tutorials for you to learn python.\"\n",
    "substring = \"python\"\n",
    "str_list = myStr.split(substring)\n",
    "output_string = \"\".join(str_list)\n",
    "print(\"The input string is:\", myStr)\n",
    "print(\"The substring is:\", substring)\n",
    "print(\"The output string is:\", output_string)"
   ]
  },
  {
   "cell_type": "code",
   "execution_count": 153,
   "id": "c18ef826",
   "metadata": {},
   "outputs": [
    {
     "name": "stdout",
     "output_type": "stream",
     "text": [
      "['I', 'am', 'PFB.', 'I', 'provide', 'free', 'python', 'tutorials', 'for', 'you', 'to', 'learn', 'python.']\n"
     ]
    }
   ],
   "source": [
    "myStr = \"I am PFB. I provide free python tutorials for you to learn python.\"\n",
    "str_list = myStr.split()\n",
    "print(str_list)"
   ]
  },
  {
   "cell_type": "markdown",
   "id": "309d7462",
   "metadata": {},
   "source": [
    "## remove a substring from a list of strings"
   ]
  },
  {
   "cell_type": "code",
   "execution_count": 157,
   "id": "ce1657a0",
   "metadata": {},
   "outputs": [
    {
     "name": "stdout",
     "output_type": "stream",
     "text": [
      "I am PFB. I provide free python tutorials for you to learn python.\n",
      "I am PFB. I provide free python rials for you to learn python.\n",
      "['I', 'am', 'PFB.', 'I', 'provide', 'free', 'python', 'rials', 'for', 'you', 'to', 'learn', 'python.']\n"
     ]
    }
   ],
   "source": [
    "str_arr = ['I', 'am', 'PFB.', 'I', 'provide', 'free', 'python', 'tutorials', 'for', 'you', 'to', 'learn', 'python.']\n",
    "\n",
    "full_str = \" \".join(str_arr)\n",
    "print(full_str)\n",
    "\n",
    "sub_del = 'tuto'\n",
    "new_str = full_str.replace(sub_del,\"\")\n",
    "print(new_str)\n",
    "\n",
    "str_arr_new = new_str.split()\n",
    "print(str_arr_new)"
   ]
  },
  {
   "cell_type": "markdown",
   "id": "cd187812",
   "metadata": {},
   "source": [
    "## search for a specific tuple in a list of tuples"
   ]
  },
  {
   "cell_type": "code",
   "execution_count": 165,
   "id": "fa16f412",
   "metadata": {},
   "outputs": [
    {
     "name": "stdout",
     "output_type": "stream",
     "text": [
      "2 (53, 'xuxa')\n"
     ]
    }
   ],
   "source": [
    "lst = [(1,\"juca\"),(22,\"james\"),(53,\"xuxa\"),(44,\"delicia\")]\n",
    "\n",
    "key = 53\n",
    "for i, ilst in enumerate(lst):\n",
    "    if (ilst[0]==key): \n",
    "        print(i, ilst)"
   ]
  },
  {
   "cell_type": "code",
   "execution_count": 169,
   "id": "17d5b727",
   "metadata": {},
   "outputs": [
    {
     "name": "stdout",
     "output_type": "stream",
     "text": [
      "2 (53, 'xuxa')\n"
     ]
    }
   ],
   "source": [
    "lst = [(1,\"juca\"),(22,\"james\"),(53,\"xuxa\"),(44,\"delicia\")]\n",
    "\n",
    "key = 53\n",
    "ind = [i for i,v in enumerate(lst) if v[0]==key][0]\n",
    "print(ind, lst[ind])"
   ]
  },
  {
   "cell_type": "markdown",
   "id": "f9686b09",
   "metadata": {},
   "source": [
    "# Read/Write text file "
   ]
  },
  {
   "cell_type": "code",
   "execution_count": 170,
   "id": "50ebf010",
   "metadata": {},
   "outputs": [],
   "source": [
    "file = open(\"myfile.txt\", \"w\")\n",
    "\n",
    "L = [\"This is Delhi \\n\",\"This is Paris \\n\",\"This is London \\n\"]\n",
    "\n",
    "file.write(\"Hello \\n\")\n",
    "file.writelines(L)\n",
    "file.close()"
   ]
  },
  {
   "cell_type": "code",
   "execution_count": 173,
   "id": "f0bf99b3",
   "metadata": {},
   "outputs": [
    {
     "name": "stdout",
     "output_type": "stream",
     "text": [
      "Hello \n",
      "This is Delhi \n",
      "This is Paris \n",
      "This is London \n",
      "\n"
     ]
    }
   ],
   "source": [
    "file = open(\"myfile.txt\", \"r\")\n",
    "print(file.read())\n",
    "\n",
    "file.close()"
   ]
  },
  {
   "cell_type": "code",
   "execution_count": 180,
   "id": "9c8ce39d",
   "metadata": {},
   "outputs": [
    {
     "name": "stdout",
     "output_type": "stream",
     "text": [
      "Hello \n",
      "This is Delhi \n",
      "This is Paris \n",
      "This is London \n",
      "\n"
     ]
    }
   ],
   "source": [
    "with open(\"myfile.txt\", \"r\") as file:\n",
    "    data = file.read()\n",
    "    \n",
    "print(data)"
   ]
  },
  {
   "cell_type": "code",
   "execution_count": 178,
   "id": "3c040bf2",
   "metadata": {},
   "outputs": [
    {
     "name": "stdout",
     "output_type": "stream",
     "text": [
      "Hello \n",
      "\n"
     ]
    }
   ],
   "source": [
    "file = open(\"myfile.txt\", \"r\")\n",
    "file.seek(0)\n",
    "print(file.readline())\n",
    "\n",
    "file.close()"
   ]
  },
  {
   "cell_type": "code",
   "execution_count": 175,
   "id": "8d0f1756",
   "metadata": {},
   "outputs": [
    {
     "name": "stdout",
     "output_type": "stream",
     "text": [
      "['Hello \\n', 'This is Delhi \\n', 'This is Paris \\n', 'This is London \\n']\n"
     ]
    }
   ],
   "source": [
    "file = open(\"myfile.txt\", \"r\")\n",
    "print(file.readlines())\n",
    "\n",
    "file.close()"
   ]
  },
  {
   "cell_type": "markdown",
   "id": "b00fc8ed",
   "metadata": {},
   "source": [
    "# Read/Write json file "
   ]
  },
  {
   "cell_type": "code",
   "execution_count": 183,
   "id": "f5a06a30",
   "metadata": {},
   "outputs": [
    {
     "name": "stdout",
     "output_type": "stream",
     "text": [
      "{\n",
      "    \"name\": \"sathiyajith\",\n",
      "    \"rollno\": 56,\n",
      "    \"cgpa\": 8.6,\n",
      "    \"phonenumber\": \"9976770500\"\n",
      "}\n"
     ]
    }
   ],
   "source": [
    "import json\n",
    "\n",
    "mydict = {\n",
    "    \"name\": \"sathiyajith\",\n",
    "    \"rollno\": 56,\n",
    "    \"cgpa\": 8.6,\n",
    "    \"phonenumber\": \"9976770500\"\n",
    "}\n",
    "\n",
    "json_obj = json.dumps(mydict, indent=4)\n",
    "print(json_obj)\n",
    "\n",
    "# write\n",
    "with open(\"sample.json\", \"w\") as file:\n",
    "    file.write(json_obj)"
   ]
  },
  {
   "cell_type": "code",
   "execution_count": 184,
   "id": "715ac87a",
   "metadata": {},
   "outputs": [],
   "source": [
    "import json\n",
    "\n",
    "mydict = {\n",
    "    \"name\": \"sathiyajith\",\n",
    "    \"rollno\": 56,\n",
    "    \"cgpa\": 8.6,\n",
    "    \"phonenumber\": \"9976770500\"\n",
    "}\n",
    "\n",
    "# write\n",
    "with open(\"sample1.json\", \"w\") as file:\n",
    "    json.dump(mydict, file)"
   ]
  },
  {
   "cell_type": "code",
   "execution_count": 188,
   "id": "cc8db69c",
   "metadata": {},
   "outputs": [
    {
     "name": "stdout",
     "output_type": "stream",
     "text": [
      "{'name': 'sathiyajith', 'rollno': 56, 'cgpa': 8.6, 'phonenumber': '9976770500'}\n",
      "<class 'dict'>\n",
      "dict_keys(['name', 'rollno', 'cgpa', 'phonenumber'])\n",
      "dict_values(['sathiyajith', 56, 8.6, '9976770500'])\n",
      "name sathiyajith\n",
      "rollno 56\n",
      "cgpa 8.6\n",
      "phonenumber 9976770500\n"
     ]
    }
   ],
   "source": [
    "# read json\n",
    "\n",
    "with open('sample.json', 'r') as file:\n",
    "    json_obj = json.load(file)\n",
    "    \n",
    "print(json_obj)\n",
    "print(type(json_obj))\n",
    "\n",
    "print(json_obj.keys())\n",
    "print(json_obj.values())\n",
    "\n",
    "for k, v in json_obj.items():\n",
    "    print(k,v)"
   ]
  },
  {
   "cell_type": "markdown",
   "id": "f924bd3d",
   "metadata": {},
   "source": [
    "## flatten json"
   ]
  },
  {
   "cell_type": "code",
   "execution_count": 189,
   "id": "b25d3b8d",
   "metadata": {},
   "outputs": [],
   "source": [
    "def flatten_json(y):\n",
    "    out = {}\n",
    " \n",
    "    def flatten(x, name=''):\n",
    " \n",
    "        # If the Nested key-value\n",
    "        # pair is of dict type\n",
    "        if type(x) is dict:\n",
    "            for a in x:\n",
    "                flatten(x[a], name + a + '_')\n",
    " \n",
    "        # If the Nested key-value\n",
    "        # pair is of list type\n",
    "        elif type(x) is list:\n",
    "            i = 0\n",
    "            for a in x:\n",
    "                flatten(a, name + str(i) + '_')\n",
    "                i += 1\n",
    "        else:\n",
    "            out[name[:-1]] = x\n",
    " \n",
    "    flatten(y)\n",
    "    return out"
   ]
  },
  {
   "cell_type": "code",
   "execution_count": 191,
   "id": "96ea5c46",
   "metadata": {},
   "outputs": [
    {
     "name": "stdout",
     "output_type": "stream",
     "text": [
      "{'user': {'Rachel': {'UserID': 1717171717, 'Email': 'rachel1999@gmail.com', 'friends': ['John', 'Jeremy', 'Emily']}}}\n",
      "{'user_Rachel_UserID': 1717171717, 'user_Rachel_Email': 'rachel1999@gmail.com', 'user_Rachel_friends_0': 'John', 'user_Rachel_friends_1': 'Jeremy', 'user_Rachel_friends_2': 'Emily'}\n"
     ]
    }
   ],
   "source": [
    "unflat_json = {'user':\n",
    "               {'Rachel':\n",
    "                {'UserID': 1717171717,\n",
    "                 'Email': 'rachel1999@gmail.com',\n",
    "                 'friends': ['John', 'Jeremy', 'Emily']\n",
    "                 }\n",
    "                }\n",
    "               }\n",
    "print(unflat_json)\n",
    "\n",
    "flat_json = flatten_json(unflat_json)\n",
    "print(flat_json)"
   ]
  },
  {
   "cell_type": "code",
   "execution_count": null,
   "id": "39cf549c",
   "metadata": {},
   "outputs": [],
   "source": []
  },
  {
   "cell_type": "code",
   "execution_count": null,
   "id": "134c4a8c",
   "metadata": {},
   "outputs": [],
   "source": []
  },
  {
   "cell_type": "code",
   "execution_count": null,
   "id": "87a1171b",
   "metadata": {},
   "outputs": [],
   "source": []
  },
  {
   "cell_type": "markdown",
   "id": "4dbfdb76",
   "metadata": {},
   "source": [
    "# Other Questions"
   ]
  },
  {
   "cell_type": "markdown",
   "id": "f058953d",
   "metadata": {},
   "source": [
    "## To learn a language answer the following:\n",
    "- How do you print to the screen?\n",
    "- How do you declare a variable? What primitive types are available under the hood (ints, floats, strings, chars, etc)? Can you do a few basic mathematical operations (you’re sitting at a big calculator, so why not)?\n",
    "- How do you write a for loop and while loop?\n",
    "- How do you write branching statements (if, else if else)\n",
    "- Is error catching available? How do you do it?\n",
    "- Is garbage collection available? [Yes for Python]\n",
    "- What containers are available to you? Like lists, dicts, counters, etc. What are the most common operations used with them (hint: how do you access, add, remove, and change data in the container)?\n",
    "- Is this an object oriented language? How do you create an object and its methods?\n",
    "- How do you access data that is stored in an object you created? Also, for your object, do you need to insert or remove data? How is that done?\n",
    "- How do you cope with nested lists and nested dictionaries? (lists in lists, etc.)\n",
    "- Input/Output — how do you write to a file? How do you accept and process user input? "
   ]
  },
  {
   "cell_type": "markdown",
   "id": "ae7ec7f4",
   "metadata": {},
   "source": [
    "## Answering Coding Questions:\n",
    "- Most people shoot themselves in the foot by not understanding the question and answering a question that wasn’t asked. So UNDERSTANDING the question is step 1, and you should tell your interviewer what you think the question is asking (i.e., what you are being asked to do).\n",
    "- Is this an array, tree, or graph problem? What TYPE of problem is it.  Trees and graphs are the most common. Most graph problems can be solved with Breadth-First Search and Depth-First Search, so there really isn’t much to memorize. Forget about memorizing named algorithms, btw.  Aside from the two above, you won’t need them.\n",
    "- What are the INPUTS and OUTPUTS of the problem.\n",
    "- Draw a picture of the problem (see Google interview question or Neetcode on YouTube for a great example of this and the problem solving process).\n",
    "- Using your picture figure out a solution that you can code up. You can solve a smaller version of the problem and scale up, you can take a greedy approach (this is an entire class of problems by itself). If you’re stuck, can you think of a related or similar problem you can solve?\n",
    "- Do not write any code until you have figured out the answer from doing the above.\n",
    "- The first answer you should write is the first working answer that comes to mind. It will be sub. optimal with respect to time and space complexity, but it will work. That’s all you want, something that works. Talk your interviewer through a couple of examples of how/why it solves the problem.\n",
    "- Optimize your solution only after you have a working one that is suboptimal. In your practice problems, how did the best answer differ from yours What tactics are available to you? Could throwing a dictionary at the problem eliminate a for loop, just as an example.\n",
    "- Confidently demonstrate how this answer is superior to the first, and *state its time and space complexity*."
   ]
  }
 ],
 "metadata": {
  "kernelspec": {
   "display_name": "Python 3 (ipykernel)",
   "language": "python",
   "name": "python3"
  },
  "language_info": {
   "codemirror_mode": {
    "name": "ipython",
    "version": 3
   },
   "file_extension": ".py",
   "mimetype": "text/x-python",
   "name": "python",
   "nbconvert_exporter": "python",
   "pygments_lexer": "ipython3",
   "version": "3.8.3"
  },
  "toc-autonumbering": false,
  "toc-showcode": false
 },
 "nbformat": 4,
 "nbformat_minor": 5
}
